{
 "cells": [
  {
   "cell_type": "code",
   "execution_count": 1,
   "metadata": {},
   "outputs": [],
   "source": [
    "import math\n",
    "def puiss(i):\n",
    "    p=int(math.pow(2,i))\n",
    "    \n",
    "    return p"
   ]
  },
  {
   "cell_type": "code",
   "execution_count": 2,
   "metadata": {},
   "outputs": [],
   "source": [
    "def MAX(sets):\n",
    "    #this function return max in integer set\n",
    "    return (max(sets)) "
   ]
  },
  {
   "cell_type": "code",
   "execution_count": 3,
   "metadata": {},
   "outputs": [],
   "source": [
    "def settovector(ens,refvec):\n",
    "    #this function convert set to vector\n",
    "    vl=[]\n",
    "    for i in range(len(refvec)):\n",
    "           vl.append(0) \n",
    "    for i in ens:\n",
    "        if i in refvec :\n",
    "            vl[refvec.index(i)]=1\n",
    "       \n",
    "    return vl"
   ]
  },
  {
   "cell_type": "code",
   "execution_count": 4,
   "metadata": {},
   "outputs": [],
   "source": [
    "def Bitset(i):\n",
    "    #this function convert vector bit to integer\n",
    "    y= ''.join(map(str, i)) \n",
    "    a=bin(int(y, 2))\n",
    "    b=int(a, 2)\n",
    "    return b"
   ]
  },
  {
   "cell_type": "code",
   "execution_count": 5,
   "metadata": {},
   "outputs": [],
   "source": [
    "def liste2listint(l1,refvec):\n",
    "    l2=[]\n",
    "    for i in l1:\n",
    "        l2.append(Bitset(settovector(i,refvec)))\n",
    "    return l2"
   ]
  },
  {
   "cell_type": "code",
   "execution_count": 6,
   "metadata": {},
   "outputs": [],
   "source": [
    "def chartoint(c):\n",
    "    #this function convert character '1' to 1 and '0' to 0\n",
    "    if c=='1':\n",
    "        return 1\n",
    "    else:\n",
    "        return 0"
   ]
  },
  {
   "cell_type": "code",
   "execution_count": 7,
   "metadata": {},
   "outputs": [],
   "source": [
    "def Convert(string): \n",
    "    #this function convert string to a list\n",
    "    list1=[] \n",
    "    list1[:0]=string \n",
    "    return list1"
   ]
  },
  {
   "cell_type": "code",
   "execution_count": 8,
   "metadata": {},
   "outputs": [],
   "source": [
    "def listchartoint(l):\n",
    "    #this function convert lsit of char to bit vector\n",
    "    l2=[]\n",
    "    for i in l:\n",
    "        l2.append(chartoint(i))\n",
    "    return l2"
   ]
  },
  {
   "cell_type": "code",
   "execution_count": 9,
   "metadata": {},
   "outputs": [],
   "source": [
    "def vectortoset(v,refvec):\n",
    "    #this function convert binary vector to set \n",
    "    s=[]\n",
    "    for i in  range(len(v)) :\n",
    "        if v[i]==1:\n",
    "            s.append(refvec[i])\n",
    "    return set(s)"
   ]
  },
  {
   "cell_type": "code",
   "execution_count": 10,
   "metadata": {},
   "outputs": [],
   "source": [
    "def decimalToBinary(n): \n",
    "    #this function convert integer to binary string\n",
    "    return bin(n).replace(\"0b\", \"\") "
   ]
  },
  {
   "cell_type": "code",
   "execution_count": 11,
   "metadata": {},
   "outputs": [],
   "source": [
    "def remplir(lm,c):\n",
    "    #this function fill the missing 0 in vector\n",
    "    k=[]\n",
    "    f=c-len(lm)\n",
    "    for i in range(f):\n",
    "        k.append(0)\n",
    "    k=k+lm\n",
    "    return k"
   ]
  },
  {
   "cell_type": "code",
   "execution_count": 12,
   "metadata": {},
   "outputs": [],
   "source": [
    "def inttoset(n,refvec):\n",
    "    #this function convert integer to set\n",
    "    \n",
    "        f=decimalToBinary(n)\n",
    "        #l=Convert(f)\n",
    "        l3=listchartoint(f)\n",
    "        l4=remplir(l3,len(refvec))\n",
    "        return vectortoset(l4,refvec)\n",
    "   "
   ]
  },
  {
   "cell_type": "code",
   "execution_count": 13,
   "metadata": {},
   "outputs": [],
   "source": [
    "def listeint2listset(l,refvec):\n",
    "    l2=[]\n",
    "    for i in l or []:\n",
    "        l2.append(inttoset(i,refvec))\n",
    "    return l2"
   ]
  },
  {
   "cell_type": "code",
   "execution_count": 14,
   "metadata": {},
   "outputs": [],
   "source": [
    "def oneinttobitvect(k,refvec):\n",
    "    vec=[]\n",
    "    for i in range(len(refvec)):\n",
    "           vec.append(0) \n",
    "    if k in refvec:\n",
    "        vec[refvec.index(k)]=1\n",
    "    return Bitset(vec)\n",
    "    "
   ]
  },
  {
   "cell_type": "code",
   "execution_count": 15,
   "metadata": {},
   "outputs": [],
   "source": [
    "import pickle\n",
    "\n",
    "with open('coding.data', 'rb') as filehandle:\n",
    "    # read the data as binary data stream\n",
    "    placesList2 = pickle.load(filehandle)"
   ]
  },
  {
   "cell_type": "code",
   "execution_count": 16,
   "metadata": {},
   "outputs": [],
   "source": [
    "codinglist=placesList2"
   ]
  },
  {
   "cell_type": "code",
   "execution_count": 17,
   "metadata": {},
   "outputs": [],
   "source": [
    "n=6"
   ]
  },
  {
   "cell_type": "code",
   "execution_count": 18,
   "metadata": {},
   "outputs": [],
   "source": [
    "nlist=[n]"
   ]
  },
  {
   "cell_type": "code",
   "execution_count": 19,
   "metadata": {},
   "outputs": [],
   "source": [
    "import pickle\n",
    "\n",
    "# define a list of places\n",
    "ppList = nlist\n",
    "\n",
    "with open('n.data', 'wb') as filehandle:\n",
    "    # store the data as binary data stream\n",
    "    pickle.dump(ppList, filehandle)"
   ]
  },
  {
   "cell_type": "code",
   "execution_count": 20,
   "metadata": {},
   "outputs": [],
   "source": [
    "l=placesList2[n]\n"
   ]
  },
  {
   "cell_type": "code",
   "execution_count": 21,
   "metadata": {},
   "outputs": [
    {
     "data": {
      "text/plain": [
       "[2097217,\n",
       " 536875137,\n",
       " 268443905,\n",
       " 134234625,\n",
       " 67142657,\n",
       " 67585,\n",
       " 4198466,\n",
       " 2105474,\n",
       " 536887554,\n",
       " 268468738,\n",
       " 134284290,\n",
       " 67241986,\n",
       " 8396868,\n",
       " 4210820,\n",
       " 2130180,\n",
       " 536936964,\n",
       " 268567556,\n",
       " 134481924,\n",
       " 16793672,\n",
       " 8421512,\n",
       " 4260104,\n",
       " 2228744,\n",
       " 537134088,\n",
       " 268961800,\n",
       " 33587280,\n",
       " 16842896,\n",
       " 8519952,\n",
       " 4456976,\n",
       " 2622480,\n",
       " 537921552,\n",
       " 65632,\n",
       " 33685664,\n",
       " 17039648,\n",
       " 8913440,\n",
       " 5243936,\n",
       " 2099232]"
      ]
     },
     "execution_count": 21,
     "metadata": {},
     "output_type": "execute_result"
    }
   ],
   "source": [
    "l"
   ]
  },
  {
   "cell_type": "code",
   "execution_count": 22,
   "metadata": {},
   "outputs": [
    {
     "data": {
      "text/plain": [
       "36"
      ]
     },
     "execution_count": 22,
     "metadata": {},
     "output_type": "execute_result"
    }
   ],
   "source": [
    "len(l)"
   ]
  },
  {
   "cell_type": "code",
   "execution_count": 23,
   "metadata": {},
   "outputs": [],
   "source": [
    "def mapcoding(n):\n",
    "    l=codinglist[n]\n",
    "    lu=codinglist[n+1]\n",
    "    ln=[]\n",
    "    co=-1\n",
    "    li=0\n",
    "    for i in range(len(l)):\n",
    "        co=co+1\n",
    "        if co ==n:\n",
    "            co=0\n",
    "            li=li+1\n",
    "        \n",
    "        ln.append(lu[(i+li)])\n",
    "    return ln"
   ]
  },
  {
   "cell_type": "code",
   "execution_count": 24,
   "metadata": {},
   "outputs": [],
   "source": [
    "refvec=l"
   ]
  },
  {
   "cell_type": "code",
   "execution_count": 25,
   "metadata": {},
   "outputs": [],
   "source": [
    "#l=nextL"
   ]
  },
  {
   "cell_type": "code",
   "execution_count": 26,
   "metadata": {},
   "outputs": [
    {
     "name": "stdout",
     "output_type": "stream",
     "text": [
      "order= 36\n"
     ]
    }
   ],
   "source": [
    "from math import ceil,log2\n",
    "#l=[65,174,188,143, 80,96, 66,157]\n",
    "#l=[9,10,18,21,36,42]\n",
    "#l=[9,10,17,22 ,36, 41]\n",
    "#l=[33,10,20,40,19,44]\n",
    "#l=[589825,11534390,7733252,18874380,8417296,4211240,16924736,304512,4362,16778016,11272,34882,4200960,8396833,82112,966786,66832,4882688,329728,17303552,1048643,10555392,4194325,12066944,17039361]\n",
    "#l=[14996986759177308160, 648518354931286020, 2344124155869265921,  10376293558641492484,  11532592745789001728, 577023702257109056, 1134704589800704,  140748248842272,  108086392197742656,  11673347826330370049,  564049477632513,  844463584903168,  9223372039002259520,  720663901311598626,  1101459898880,  45040428679954433,  13297218748480,  3299072279048,  288230444896354376,  74872343805132800,  268440640,  9013934300463136,  144414255251193860,  4683744712010499584,  81065343061065728,  17314127876,  576495936675520515,  2256301478445056,  36030996042219585,  562958744682752,  284232345714688,  6343320075152656400,  4611826764539265025,  18014679897473024,  297237575675068416,  18024296261665280,  1700941266944,  2451101965334085888,  566935978048,  22538066371543040,  38282795990122496,  585467953705654304,  1162491653815274496,  4611686022916341760,  290482178112885760,  43218632704,  5068886043009024,  9511602421596422272,  311385137152,  9295464819559759872,  1125899928346624,  144167964768207872,  2260664899862528,  70506185237632,  4760304840490352656,  1337010434588672,  35188667057157,  281476151123984,  9020462717731072,  2478464565248,  9223380832947806210,  576469552692461698,  162199955330072704,  865818127873622536]\n",
    "limite=MAX(set(l))+1\n",
    "#limite=31                     #worst case \n",
    "#l=range(1,limite) #worst case using canonical graph \n",
    "#order=ceil(log2(limite))\n",
    "order=len(l)\n",
    "print(\"order=\",order)\n",
    "nvert=len(l)\n",
    "#c=limite        \n",
    "#print(c)\n",
    "ll=l"
   ]
  },
  {
   "cell_type": "code",
   "execution_count": 27,
   "metadata": {},
   "outputs": [],
   "source": [
    "def symboliclique(s,refvec):\n",
    "    c=Bitset(settovector(s,refvec))\n",
    "    return c"
   ]
  },
  {
   "cell_type": "code",
   "execution_count": 28,
   "metadata": {},
   "outputs": [],
   "source": [
    "def ensclique(c,refvec):\n",
    "    s=set([])\n",
    "    s=inttoset(c,refvec)\n",
    "    return s"
   ]
  },
  {
   "cell_type": "code",
   "execution_count": 29,
   "metadata": {},
   "outputs": [],
   "source": [
    "def splitt2(i,c,zero,one,treated):\n",
    "        m=refvec[i]\n",
    "        r=ensclique(c,refvec)\n",
    "        s= list(r)\n",
    "        #t=r-treated\n",
    "        zero=list(filter(lambda x:   (x &m==0), s))\n",
    "        zero.append(m)\n",
    "        one=list(r-set([m]))\n",
    "        #list(filter(lambda x:  ((x!=m) and  (x &m!=0)), s))\n",
    "        mate=symboliclique(set(zero),refvec)\n",
    "        rival=symboliclique(set(one),refvec)\n",
    "        return (mate,rival)"
   ]
  },
  {
   "cell_type": "code",
   "execution_count": 30,
   "metadata": {},
   "outputs": [],
   "source": [
    "def  countSetBits(n): \n",
    "    count = 0\n",
    "    while (n): \n",
    "        count += n & 1\n",
    "        n >>= 1\n",
    "    return count "
   ]
  },
  {
   "cell_type": "code",
   "execution_count": 31,
   "metadata": {},
   "outputs": [],
   "source": [
    "def  eliminationdouble1(M):\n",
    "    \n",
    "    Mi=[]\n",
    "    #Md=[]\n",
    "    Md= M                #quickSort(M,1,len(M)-2)       #M\n",
    "    #for e in M:\n",
    "        #if e != 0 :\n",
    "            #Md.append(e)\n",
    "    #print(Md)\n",
    "    for i in range(len(Md)):\n",
    "        #print(i)\n",
    "        b=False\n",
    "        for j in range(i+1,len(Md)):\n",
    "            if (Md[i] & Md[j]== Md[i]) :\n",
    "                    b=True\n",
    "                    break           \n",
    "        #print(Md[i],b)                \n",
    "        if not b: \n",
    "             \n",
    "                  c=False\n",
    "                  for k in range(len(Mi)):\n",
    "                        if Md[i] & Mi[k]== Md[i]:\n",
    "                            c=True\n",
    "                            break\n",
    "                           \n",
    "                  if (not c) :\n",
    "                            Mi.append(Md[i])\n",
    "    \n",
    "         \n",
    "    return Mi"
   ]
  },
  {
   "cell_type": "code",
   "execution_count": 32,
   "metadata": {},
   "outputs": [],
   "source": [
    "def OrOp(c,refvec):\n",
    "    \n",
    "    s=ensclique(c,refvec)\n",
    "    r=0\n",
    "    for e in s :\n",
    "        r=r|e\n",
    "    return r\n",
    "        \n",
    "    "
   ]
  },
  {
   "cell_type": "code",
   "execution_count": 33,
   "metadata": {},
   "outputs": [
    {
     "data": {
      "text/plain": [
       "7210520"
      ]
     },
     "execution_count": 33,
     "metadata": {},
     "output_type": "execute_result"
    }
   ],
   "source": [
    "OrOp(16768,refvec)\n"
   ]
  },
  {
   "cell_type": "code",
   "execution_count": 34,
   "metadata": {},
   "outputs": [
    {
     "data": {
      "text/plain": [
       "'0b111000101110110111'"
      ]
     },
     "execution_count": 34,
     "metadata": {},
     "output_type": "execute_result"
    }
   ],
   "source": [
    "bin(232375)"
   ]
  },
  {
   "cell_type": "code",
   "execution_count": 35,
   "metadata": {},
   "outputs": [
    {
     "data": {
      "text/plain": [
       "128"
      ]
     },
     "execution_count": 35,
     "metadata": {},
     "output_type": "execute_result"
    }
   ],
   "source": [
    "8328&232375"
   ]
  },
  {
   "cell_type": "code",
   "execution_count": 36,
   "metadata": {},
   "outputs": [
    {
     "name": "stdout",
     "output_type": "stream",
     "text": [
      "set representation  {2097217, 268468738, 4210820, 537134088, 8519952}\n",
      "set representation  {2099232, 536875137, 268468738, 8396868, 4260104}\n",
      "set representation  {5243936, 2097217, 536887554, 134481924, 8421512}\n",
      "set representation  {5243936, 2097217, 536887554, 134481924, 16842896}\n",
      "set representation  {8913440, 2097217, 536887554, 268567556, 16842896}\n",
      "set representation  {8913440, 2097217, 536887554, 134481924, 16842896}\n",
      "set representation  {5243936, 2097217, 536887554, 268961800, 16842896}\n",
      "set representation  {5243936, 2097217, 268468738, 134481924, 16842896}\n",
      "set representation  {5243936, 2097217, 268468738, 134481924, 8519952}\n",
      "set representation  {17039648, 2097217, 134284290, 4210820, 268961800}\n",
      "set representation  {8913440, 2097217, 67241986, 4210820, 537134088}\n",
      "set representation  {17039648, 2097217, 67241986, 536936964, 8421512}\n",
      "set representation  {5243936, 2097217, 67241986, 536936964, 8421512}\n",
      "set representation  {8913440, 2097217, 67241986, 537134088, 16842896}\n",
      "set representation  {17039648, 536875137, 134284290, 8396868, 2228744}\n",
      "set representation  {17039648, 536875137, 134284290, 8396868, 268961800}\n",
      "set representation  {33685664, 2097217, 268468738, 134481924, 4260104}\n",
      "set representation  {536875137, 268468738, 134481924, 16793672, 8519952}\n",
      "set representation  {5243936, 536875137, 268468738, 134481924, 16793672}\n",
      "set representation  {5243936, 536875137, 67241986, 2130180, 16793672}\n",
      "set representation  {5243936, 268443905, 67241986, 536936964, 16793672}\n",
      "set representation  {8913440, 536875137, 134284290, 2130180, 16793672}\n",
      "set representation  {2099232, 536875137, 268468738, 16793672, 8519952}\n",
      "set representation  {2099232, 536875137, 134284290, 16793672, 8519952}\n",
      "set representation  {8913440, 536875137, 67241986, 2130180, 16793672}\n",
      "set representation  {33685664, 134234625, 4198466, 2130180, 537134088}\n",
      "set representation  {2099232, 67142657, 4198466, 536936964, 8519952}\n",
      "set representation  {5243936, 536875137, 268468738, 134481924, 16793672, 8519952}\n",
      "set representation  {5243936, 536875137, 268468738, 134481924, 8519952}\n",
      "set representation  {5243936, 536875137, 268468738, 16793672, 8519952}\n",
      "set representation  {5243936, 536875137, 134481924, 16793672, 8519952}\n",
      "set representation  {2099232, 67142657, 536936964, 16793672, 8519952}\n",
      "set representation  {65632, 536875137, 268468738, 134481924, 8519952}\n",
      "set representation  {268443905, 4198466, 134481924, 2228744, 16842896}\n",
      "set representation  {65632, 268443905, 67241986, 4210820, 537134088}\n",
      "set representation  {65632, 134234625, 2105474, 537134088, 8519952}\n",
      "set representation  {65632, 134234625, 2105474, 268961800, 8519952}\n",
      "set representation  {65632, 134234625, 67241986, 2130180, 537134088}\n",
      "set representation  {2099232, 134234625, 4198466, 268567556, 16842896}\n",
      "set representation  {67142657, 4198466, 134481924, 2228744, 16842896}\n",
      "set representation  {65632, 67142657, 2105474, 134481924, 8519952}\n",
      "set representation  {17039648, 134234625, 4198466, 268567556, 8421512}\n",
      "set representation  {67142657, 536887554, 8396868, 2228744, 16842896}\n",
      "set representation  {5243936, 268443905, 134481924, 2228744, 16842896}\n",
      "set representation  {5243936, 134234625, 67241986, 8396868, 16842896}\n",
      "set representation  {5243936, 134234625, 67241986, 2130180, 16842896}\n",
      "set representation  {2099232, 67142657, 536887554, 8396868, 16842896}\n",
      "set representation  {65632, 67142657, 536887554, 268961800, 4456976}\n",
      "set representation  {17039648, 67585, 4198466, 268567556, 8421512}\n",
      "set representation  {5243936, 536887554, 8396868, 2228744, 16842896}\n",
      "set representation  {5243936, 536887554, 134481924, 2228744, 16842896}\n",
      "set representation  {8913440, 268443905, 4198466, 134481924, 16842896}\n",
      "set representation  {8913440, 67142657, 4198466, 134481924, 16842896}\n",
      "set representation  {8913440, 67142657, 536887554, 134481924, 16842896}\n",
      "set representation  {5243936, 2105474, 134481924, 16793672, 8519952}\n",
      "set representation  {5243936, 268468738, 134481924, 16793672, 8519952}\n",
      "set representation  {268443905, 134284290, 4210820, 2228744, 537921552}\n",
      "set representation  {268443905, 134284290, 4210820, 2228744, 33587280}\n",
      "set representation  {134234625, 4198466, 268567556, 8421512, 537921552}\n",
      "set representation  {134234625, 2105474, 268567556, 4260104, 33587280}\n",
      "set representation  {8913440, 2097217, 134284290, 4210820, 537921552}\n",
      "set representation  {8913440, 2097217, 268567556, 4260104, 537921552}\n",
      "set representation  {2099232, 536875137, 268567556, 4260104, 33587280}\n",
      "set representation  {2099232, 268443905, 134284290, 4210820, 33587280}\n",
      "set representation  {17039648, 2097217, 268468738, 4210820, 537921552}\n",
      "set representation  {17039648, 2097217, 134284290, 4210820, 537921552}\n",
      "set representation  {17039648, 2097217, 134284290, 8421512, 537921552}\n",
      "set representation  {17039648, 2097217, 268567556, 8421512, 537921552}\n",
      "set representation  {5243936, 536875137, 134481924, 2228744, 33587280}\n",
      "set representation  {8913440, 268443905, 134284290, 4210820, 537921552}\n",
      "set representation  {5243936, 268443905, 67241986, 536936964, 33587280}\n",
      "set representation  {5243936, 268443905, 134481924, 2228744, 33587280}\n",
      "set representation  {33685664, 2097217, 268468738, 4260104, 537921552}\n",
      "set representation  {33685664, 268443905, 134284290, 16793672, 537921552}\n",
      "set representation  {33685664, 134234625, 4198466, 2130180, 537921552}\n",
      "set representation  {33685664, 134234625, 8396868, 4260104, 537921552}\n",
      "set representation  {33685664, 67142657, 8396868, 4260104, 537921552}\n",
      "set representation  {8913440, 536875137, 67241986, 4260104, 33587280}\n",
      "set representation  {8913440, 536875137, 268567556, 4260104, 33587280}\n",
      "set representation  {8913440, 536875137, 134481924, 4260104, 33587280}\n",
      "set representation  {8913440, 268443905, 134284290, 4210820, 33587280}\n",
      "set representation  {8913440, 268443905, 67241986, 4210820, 33587280}\n",
      "set representation  {8913440, 67585, 2105474, 268567556, 33587280}\n",
      "set representation  {8913440, 67585, 536887554, 268567556, 33587280}\n",
      "set representation  {8913440, 2105474, 268567556, 4260104, 33587280}\n",
      "set representation  {8913440, 2105474, 134481924, 4260104, 33587280}\n",
      "set representation  {2099232, 268443905, 4198466, 536936964, 8421512}\n",
      "set representation  {65632, 268443905, 4210820, 2228744, 537921552}\n",
      "set representation  {2099232, 134234625, 4198466, 268567556, 8421512}\n",
      "set representation  {65632, 134234625, 2105474, 268567556, 537921552}\n",
      "set representation  {65632, 134234625, 268567556, 8421512, 537921552}\n",
      "set representation  {65632, 67142657, 4210820, 2228744, 537921552}\n",
      "set representation  {17039648, 536875137, 134284290, 2228744, 33587280}\n",
      "set representation  {17039648, 134234625, 2105474, 268567556, 33587280}\n",
      "set representation  {17039648, 67585, 2105474, 268567556, 33587280}\n",
      "set representation  {5243936, 67585, 536887554, 8396868, 2228744}\n",
      "set representation  {17039648, 67585, 4210820, 2228744, 33587280}\n",
      "set representation  {17039648, 134284290, 4210820, 2228744, 33587280}\n",
      "set representation  {5243936, 268443905, 67241986, 536936964, 8421512}\n",
      "set representation  {536875137, 268468738, 8396868, 4260104, 2622480}\n",
      "set representation  {536875137, 268468738, 134481924, 16793672, 2622480}\n",
      "set representation  {536875137, 268468738, 134481924, 4260104, 2622480}\n",
      "set representation  {536875137, 67241986, 8396868, 4260104, 2622480}\n",
      "set representation  {268443905, 4198466, 536936964, 8421512, 2622480}\n",
      "set representation  {268443905, 4198466, 134481924, 8421512, 2622480}\n",
      "set representation  {268443905, 67241986, 536936964, 16793672, 2622480}\n",
      "set representation  {268443905, 67241986, 536936964, 8421512, 2622480}\n",
      "set representation  {17039648, 536875137, 268468738, 8396868, 2622480}\n",
      "set representation  {17039648, 536875137, 67241986, 8396868, 2622480}\n",
      "set representation  {17039648, 134234625, 4198466, 8421512, 2622480}\n",
      "set representation  {134234625, 67241986, 8396868, 4260104, 2622480}\n",
      "set representation  {17039648, 134234625, 67241986, 8396868, 2622480}\n",
      "set representation  {17039648, 134234625, 67241986, 8421512, 2622480}\n",
      "set representation  {17039648, 67585, 4198466, 8421512, 2622480}\n",
      "set representation  {17039648, 67585, 268468738, 8396868, 2622480}\n",
      "set representation  {33685664, 268443905, 4198466, 536936964, 2622480}\n",
      "set representation  {2097217, 134284290, 4210820, 268961800, 8519952}\n",
      "set representation  {33685664, 268443905, 4198466, 134481924, 2622480}\n",
      "set representation  {33685664, 268443905, 536936964, 16793672, 2622480}\n",
      "set representation  {33685664, 268443905, 134481924, 16793672, 2622480}\n",
      "set representation  {33685664, 134234625, 8396868, 4260104, 2622480}\n",
      "set representation  {67142657, 4198466, 536936964, 268961800, 8519952}\n",
      "set representation  {67142657, 2105474, 536936964, 268961800, 8519952}\n",
      "set representation  {33685664, 67585, 536887554, 8396868, 2622480}\n",
      "set representation  {33685664, 67585, 268468738, 8396868, 2622480}\n",
      "set representation  {5243936, 2097217, 536936964, 268961800, 8519952}\n",
      "set representation  {5243936, 134234625, 2105474, 268961800, 8519952}\n",
      "set representation  {5243936, 2105474, 536936964, 268961800, 8519952}\n",
      "set representation  {65632, 536875137, 268468738, 134481924, 2622480}\n",
      "set representation  {65632, 268443905, 67241986, 4210820, 2622480}\n",
      "set representation  {65632, 268443905, 67241986, 8421512, 2622480}\n",
      "set representation  {65632, 268443905, 134481924, 8421512, 2622480}\n",
      "set representation  {134234625, 4198466, 2130180, 268961800, 16842896}\n",
      "set representation  {65632, 134234625, 67241986, 8421512, 2622480}\n",
      "set representation  {67142657, 536887554, 8396868, 268961800, 16842896}\n",
      "set representation  {65632, 67142657, 536887554, 134481924, 2228744}\n",
      "set representation  {65632, 536887554, 134481924, 8421512, 2622480}\n",
      "set representation  {17039648, 67142657, 4198466, 536936964, 268961800}\n",
      "set representation  {17039648, 67142657, 2105474, 536936964, 268961800}\n",
      "set representation  {5243936, 134234625, 8396868, 268961800, 16842896}\n",
      "set representation  {5243936, 134234625, 2130180, 268961800, 16842896}\n",
      "set representation  {17039648, 67585, 268468738, 4210820, 2622480}\n",
      "set representation  {17039648, 4198466, 536936964, 8421512, 2622480}\n",
      "set representation  {5243936, 536887554, 8396868, 268961800, 16842896}\n",
      "set representation  {17039648, 67241986, 536936964, 8421512, 2622480}\n",
      "set representation  {8913440, 67241986, 4210820, 537134088, 33587280}\n",
      "set representation  {5243936, 536887554, 134481924, 2228744, 33587280}\n",
      "set representation  {5243936, 134234625, 2105474, 268961800, 33587280}\n",
      "set representation  {5243936, 2105474, 536936964, 268961800, 33587280}\n",
      "set representation  {33685664, 134234625, 4198466, 2130180, 268961800}\n",
      "set representation  {33685664, 67142657, 4198466, 536936964, 268961800}\n",
      "set representation  {33685664, 67142657, 536887554, 8396868, 268961800}\n",
      "set representation  {33685664, 67585, 268468738, 16793672, 2622480}\n",
      "set representation  {67142657, 2105474, 536936964, 16793672, 8519952}\n",
      "set representation  {33685664, 268468738, 8396868, 4260104, 2622480}\n",
      "set representation  {33685664, 268468738, 134481924, 16793672, 2622480}\n",
      "set representation  {33685664, 268468738, 134481924, 4260104, 2622480}\n",
      "set representation  {17039648, 536875137, 134284290, 268961800, 33587280}\n",
      "set representation  {17039648, 134234625, 2105474, 268961800, 33587280}\n",
      "set representation  {8913440, 67585, 2105474, 268567556, 16793672}\n",
      "set representation  {17039648, 2105474, 536936964, 268961800, 33587280}\n",
      "set representation  {17039648, 134284290, 4210820, 268961800, 33587280}\n",
      "set representation  {2097217, 536887554, 268567556, 8421512, 4456976}\n",
      "set representation  {2099232, 536875137, 134284290, 8396868, 4456976}\n",
      "set representation  {536875137, 134284290, 2130180, 16793672, 4456976}\n",
      "set representation  {536875137, 67241986, 2130180, 16793672, 4456976}\n",
      "set representation  {536875137, 134284290, 8396868, 268961800, 4456976}\n",
      "set representation  {536875137, 134284290, 2130180, 268961800, 4456976}\n",
      "set representation  {2099232, 536875137, 134284290, 16793672, 4456976}\n",
      "set representation  {2099232, 536875137, 268567556, 16793672, 4456976}\n",
      "set representation  {2099232, 268443905, 134284290, 16793672, 4456976}\n",
      "set representation  {2099232, 268443905, 134284290, 8421512, 4456976}\n",
      "set representation  {2099232, 67142657, 536887554, 8396868, 4456976}\n",
      "set representation  {67585, 2105474, 268567556, 16793672, 4456976}\n",
      "set representation  {5243936, 67585, 2105474, 16793672, 8519952}\n",
      "set representation  {67585, 536887554, 268567556, 8421512, 4456976}\n",
      "set representation  {5243936, 67585, 268468738, 16793672, 8519952}\n",
      "set representation  {5243936, 2105474, 536936964, 16793672, 8519952}\n",
      "set representation  {33685664, 2097217, 536887554, 268961800, 4456976}\n",
      "set representation  {33685664, 2097217, 134284290, 268961800, 4456976}\n",
      "set representation  {33685664, 268443905, 134284290, 16793672, 4456976}\n",
      "set representation  {33685664, 67142657, 536887554, 8396868, 268961800, 4456976}\n",
      "set representation  {33685664, 67142657, 536887554, 8396868, 4456976}\n",
      "set representation  {8913440, 268443905, 67241986, 4210820, 537134088}\n",
      "set representation  {2099232, 134234625, 4198466, 537134088, 8519952}\n",
      "set representation  {33685664, 67142657, 536887554, 268961800, 4456976}\n",
      "set representation  {33685664, 67142657, 8396868, 268961800, 4456976}\n",
      "set representation  {8913440, 67585, 4198466, 2130180, 537134088}\n",
      "set representation  {67585, 268468738, 4210820, 537134088, 8519952}\n",
      "set representation  {2099232, 268468738, 4210820, 537134088, 8519952}\n",
      "set representation  {65632, 536875137, 67241986, 2130180, 4456976}\n",
      "set representation  {65632, 536875137, 2130180, 268961800, 4456976}\n",
      "set representation  {65632, 268443905, 67241986, 8421512, 4456976}\n",
      "set representation  {134234625, 4198466, 2130180, 537134088, 16842896}\n",
      "set representation  {134234625, 67241986, 8396868, 537134088, 16842896}\n",
      "set representation  {134234625, 67241986, 2130180, 537134088, 16842896}\n",
      "set representation  {2099232, 268443905, 4198466, 537134088, 16842896}\n",
      "set representation  {2099232, 134234625, 4198466, 537134088, 16842896}\n",
      "set representation  {2099232, 134234625, 8396868, 537134088, 16842896}\n",
      "set representation  {65632, 67142657, 2105474, 268961800, 4456976}\n",
      "set representation  {2099232, 268468738, 8396868, 537134088, 16842896}\n",
      "set representation  {17039648, 134284290, 4210820, 2228744, 537921552}\n",
      "set representation  {65632, 67142657, 2105474, 268961800, 8519952}\n",
      "set representation  {65632, 67142657, 4210820, 268961800, 8519952}\n",
      "set representation  {8913440, 134284290, 2130180, 16793672, 537921552}\n",
      "set representation  {8913440, 268443905, 4198466, 537134088, 16842896}\n",
      "set representation  {8913440, 268443905, 67241986, 537134088, 16842896}\n",
      "set representation  {8913440, 4198466, 2130180, 537134088, 16842896}\n",
      "set representation  {8913440, 67241986, 2130180, 537134088, 16842896}\n",
      "set representation  {268443905, 67241986, 4210820, 537134088, 33587280}\n",
      "set representation  {134234625, 2105474, 268567556, 4260104, 537921552}\n",
      "set representation  {2099232, 268443905, 4210820, 537134088, 33587280}\n",
      "set representation  {33685664, 67585, 4198466, 2130180, 537134088}\n",
      "set representation  {33685664, 67585, 268468738, 8396868, 537134088}\n",
      "set representation  {8913440, 268443905, 67241986, 4210820, 537134088, 33587280}\n",
      "set representation  {8913440, 268443905, 67241986, 537134088, 33587280}\n",
      "set representation  {8913440, 268443905, 134284290, 16793672, 537921552}\n",
      "set representation  {8913440, 268443905, 4210820, 537134088, 33587280}\n",
      "set representation  {8913440, 67142657, 2105474, 16793672, 537921552}\n",
      "set representation  {8913440, 67142657, 2105474, 4260104, 537921552}\n",
      "set representation  {8913440, 67585, 2105474, 537134088, 33587280}\n",
      "set representation  {33685664, 67585, 536887554, 8396868, 4456976}\n",
      "set representation  {8913440, 67585, 4210820, 537134088, 33587280}\n",
      "set representation  {33685664, 67585, 2130180, 16793672, 4456976}\n",
      "set representation  {8913440, 2105474, 268567556, 16793672, 537921552}\n",
      "set representation  {8913440, 2105474, 268567556, 4260104, 537921552}\n",
      "set representation  {33685664, 134284290, 2130180, 16793672, 4456976}\n",
      "set representation  {17039648, 134234625, 4198466, 268567556, 8421512, 537921552}\n",
      "set representation  {17039648, 134234625, 4198466, 268567556, 537921552}\n",
      "set representation  {17039648, 134234625, 4198466, 8421512, 537921552}\n",
      "set representation  {17039648, 134234625, 2105474, 268567556, 537921552}\n",
      "set representation  {17039648, 134234625, 268567556, 8421512, 537921552}\n",
      "set representation  {17039648, 67142657, 4198466, 2228744, 537921552}\n",
      "set representation  {17039648, 67142657, 8396868, 2228744, 537921552}\n",
      "set representation  {17039648, 67142657, 4210820, 2228744, 537921552}\n",
      "set representation  {17039648, 4198466, 268567556, 8421512, 537921552}\n",
      "set representation  {17039648, 134284290, 8396868, 2228744, 537921552}\n",
      "set representation  {2099232, 134234625, 268567556, 4260104, 33587280}\n",
      "set representation  {2099232, 536887554, 268567556, 8421512, 4456976}\n",
      "set representation  {67142657, 536887554, 8396868, 268961800, 4456976}\n",
      "set representation  {8913440, 67142657, 2105474, 134481924, 4260104}\n",
      "set representation  {5243936, 67585, 536887554, 2228744, 33587280}\n",
      "set representation  {33685664, 268468738, 8396868, 4260104, 537921552}\n",
      "set representation  {33685664, 134284290, 2130180, 16793672, 537921552}\n",
      "set representation  {65632, 536887554, 268567556, 8421512, 4456976}\n",
      "set representation  {65632, 268468738, 4210820, 537134088, 8519952}\n",
      "set representation  {67142657, 536887554, 134481924, 2228744, 16842896}\n",
      "set representation  {67142657, 2105474, 134481924, 16793672, 8519952}\n",
      "set representation  {33685664, 536887554, 8396868, 268961800, 4456976}\n",
      "set representation  {33685664, 134284290, 8396868, 268961800, 4456976}\n",
      "set representation  {33685664, 134284290, 2130180, 268961800, 4456976}\n",
      "set representation  {8913440, 67142657, 2105474, 134481924, 16793672}\n",
      "Wall time: 316 ms\n"
     ]
    }
   ],
   "source": [
    "%%time\n",
    "#l=[3840, 61441, 458754, 528644, 74248, 1721360,1345568]  \n",
    "refvec=l             \n",
    "n=len(refvec)\n",
    "nn=ceil(math.sqrt(n))\n",
    "M=[symboliclique(set(refvec),refvec)]\n",
    "\n",
    "mi=refvec[0]\n",
    "#id=1086357584\n",
    "#iid=refvec.index(id)\n",
    "#idvec=oneinttobitvect(id,refvec)\n",
    "ens=set([])      #[1086357584,67117216]\n",
    "idvec=Bitset(settovector(ens,refvec))\n",
    "#print(idvec)\n",
    "i=0\n",
    "treated=set([])\n",
    "#print(\" iteration N= \",i,\"treaed =\",treated)\n",
    "#print(\"partition =\",i,\"=\",refvec)\n",
    "#s=[ensclique(e)for e in M]\n",
    "#print(\"partition =\",i,\"=\",s)\n",
    "#print(\"-------------------------------------------------\" )\n",
    "while (len(treated) !=n):\n",
    "         if (mi not in treated) :\n",
    "                treated.add(mi) \n",
    "                #print(\"treated=\",treated)\n",
    "                #print(\"*************************\")\n",
    "                temp=[]\n",
    "                for c in M:\n",
    "                    r=ensclique(c,refvec)\n",
    "                    if mi in r :\n",
    "                        z1=[]\n",
    "                        o1=[]\n",
    "                        (z1,o1)=splitt2(refvec.index(mi),c,z1,o1,treated)\n",
    "                        #print(ensclique(z1))\n",
    "                        #print(ensclique(o1)) \n",
    "                        if idvec&z1==idvec:\n",
    "                               if z1 not in temp :\n",
    "                                      if countSetBits(z1)>= nn-1:\n",
    "                                            temp.append(z1)\n",
    "                        if idvec&o1==idvec:\n",
    "                               if o1 not in temp :\n",
    "                                    if countSetBits(o1)>= nn-1:\n",
    "                                          temp.append(o1)\n",
    "                    else:\n",
    "                         if idvec&c==idvec:\n",
    "                            if c not in temp :\n",
    "                                      temp.append(c)\n",
    "                    \n",
    "         else:\n",
    "                i=i+1\n",
    "                mi=refvec[i]      \n",
    "                \n",
    "         \n",
    "         M= temp\n",
    "         #print(\" iteration N= \",i,\"treaed =\",treated)\n",
    "         #print(\"partition\",i, \"=\",M)\n",
    "         #s=[ensclique(e)for e in M]\n",
    "         #print(s)\n",
    "         #print(\"-------------------------------------------------\" )\n",
    "    \n",
    "    \n",
    "#print(i)\n",
    "#M=eliminationdouble1(temp)\n",
    "Mi=list(set(M))    #eliminationdouble1(M) \n",
    "TorNMinus2={}\n",
    "TorNMinus1={}\n",
    "TorN={}\n",
    "\n",
    "co=0\n",
    "for e in range(len(Mi)) :\n",
    "     if countSetBits(Mi[e])==nn-2:\n",
    "             #co=co+1\n",
    "             print(\"symbolic representation \",Mi[e])\n",
    "             TorNMinus2[Mi[e]]=OrOp(Mi[e],refvec)\n",
    "             print(\"set representation \",ensclique(Mi[e],refvec))\n",
    "             #print(\"*-*-*-*-*-*-*-*-*-*-*-*-*-*-*-*-*-*-*-*\")\n",
    "     else :\n",
    "                    if countSetBits(Mi[e])==nn-1:\n",
    "                          TorNMinus1[Mi[e]]=OrOp(Mi[e],refvec)\n",
    "                          print(\"set representation \",ensclique(Mi[e],refvec))\n",
    "                    else:\n",
    "                             if countSetBits(Mi[e])==nn:\n",
    "                                   TorN[Mi[e]]=OrOp(Mi[e],refvec)\n",
    "                                   print(\"set representation \",ensclique(Mi[e],refvec))\n",
    "\n",
    "     \n",
    "#print(\"The number of solution is \",co)     "
   ]
  },
  {
   "cell_type": "code",
   "execution_count": 37,
   "metadata": {},
   "outputs": [
    {
     "data": {
      "text/plain": [
       "{}"
      ]
     },
     "execution_count": 37,
     "metadata": {},
     "output_type": "execute_result"
    }
   ],
   "source": [
    "TorNMinus2"
   ]
  },
  {
   "cell_type": "code",
   "execution_count": 38,
   "metadata": {},
   "outputs": [
    {
     "data": {
      "text/plain": [
       "0"
      ]
     },
     "execution_count": 38,
     "metadata": {},
     "output_type": "execute_result"
    }
   ],
   "source": [
    "len(TorNMinus2)"
   ]
  },
  {
   "cell_type": "code",
   "execution_count": 39,
   "metadata": {},
   "outputs": [
    {
     "data": {
      "text/plain": [
       "{34431050240: 820430815,\n",
       " 17255399425: 820100079,\n",
       " 34494283778: 687132143,\n",
       " 34494219266: 695553527,\n",
       " 34494481412: 833308663,\n",
       " 34494219268: 699223031,\n",
       " 34493961218: 830033403,\n",
       " 34427110402: 427134711,\n",
       " 34427109890: 418811767,\n",
       " 34397491208: 426593775,\n",
       " 34380718084: 619597551,\n",
       " 34377629704: 631737327,\n",
       " 34377629698: 619941615,\n",
       " 34376524804: 632229627,\n",
       " 17221828616: 698824687,\n",
       " 17221816328: 965557743,\n",
       " 34427142160: 442993647,\n",
       " 17247371776: 965139423,\n",
       " 17247371266: 961863407,\n",
       " 17198874626: 628284911,\n",
       " 8607891458: 894660463,\n",
       " 17215651844: 698996719,\n",
       " 17247109633: 832756731,\n",
       " 17213555201: 698572283,\n",
       " 17198874628: 631954415,\n",
       " 4833943568: 711383023,\n",
       " 2685403649: 618897271,\n",
       " 17247240706: 953589687,\n",
       " 17247109634: 835901435,\n",
       " 17180262914: 701914621,\n",
       " 2148663809: 631492477,\n",
       " 17247240736: 948411383,\n",
       " 9127085056: 426195935,\n",
       " 8610914336: 877096431,\n",
       " 4563411488: 682059771,\n",
       " 4563407392: 413887483,\n",
       " 4313849888: 740806511,\n",
       " 4832363521: 425942775,\n",
       " 2684634112: 224894687,\n",
       " 2416181792: 212315639,\n",
       " 4832428040: 432461807,\n",
       " 2290107392: 631498719,\n",
       " 8590214146: 427241405,\n",
       " 4320134146: 231960311,\n",
       " 4313842690: 225693623,\n",
       " 2290091009: 631369207,\n",
       " 2281705760: 877514619,\n",
       " 1611202568: 298294767,\n",
       " 142623746: 569599998,\n",
       " 134497282: 695685054,\n",
       " 9127068676: 432880631,\n",
       " 2684617732: 231579383,\n",
       " 2281964548: 764268471,\n",
       " 268829186: 167144958,\n",
       " 67502594: 433508222,\n",
       " 8627699776: 947089311,\n",
       " 8627701760: 442755039,\n",
       " 4832428096: 953343711,\n",
       " 4563961856: 442755039,\n",
       " 34397487172: 687427319,\n",
       " 34360295492: 821759869,\n",
       " 17180428289: 845389309,\n",
       " 8627685377: 442625527,\n",
       " 34431041608: 829737975,\n",
       " 34397487176: 695553527,\n",
       " 34393358408: 699764219,\n",
       " 34360328264: 834047485,\n",
       " 17180149762: 712417021,\n",
       " 8627683396: 953774007,\n",
       " 8607762434: 911454071,\n",
       " 8590215170: 443985789,\n",
       " 34426880080: 846433275,\n",
       " 8623620176: 991129083,\n",
       " 4833935440: 712170487,\n",
       " 4303388752: 718498813,\n",
       " 2155905104: 651406845,\n",
       " 17196681220: 650877947,\n",
       " 17180428292: 852203517,\n",
       " 17180166148: 718117885,\n",
       " 8627685380: 449439735,\n",
       " 8610908164: 382397431,\n",
       " 1342703620: 313241335,\n",
       " 1208485892: 848023415,\n",
       " 268994564: 317433854,\n",
       " 268732420: 183348222,\n",
       " 9127919617: 820100079,\n",
       " 8594145376: 812870653,\n",
       " 4832428033: 417521391,\n",
       " 4563927136: 942894839,\n",
       " 4295557216: 949210877,\n",
       " 2151694432: 611569405,\n",
       " 17213442056: 724015099,\n",
       " 4563929096: 455534583,\n",
       " 1342703624: 321367543,\n",
       " 1216364546: 552824687,\n",
       " 1077954568: 57134077,\n",
       " 37767176: 191350782,\n",
       " 8607825922: 886288303,\n",
       " 17255399552: 820623327,\n",
       " 17247371392: 959241951,\n",
       " 17247273088: 946708383,\n",
       " 17205067904: 619396575,\n",
       " 9127919744: 820623327,\n",
       " 9127133312: 418168287,\n",
       " 8607891584: 892039007,\n",
       " 8607826048: 883666847,\n",
       " 17255366792: 833402871,\n",
       " 17205035144: 632176119,\n",
       " 4831903880: 166516731,\n",
       " 4320166016: 216756063,\n",
       " 4320133256: 229535607,\n",
       " 4311810184: 229560251,\n",
       " 1610678408: 32349691,\n",
       " 1149239432: 296595319,\n",
       " 9127854224: 845887479,\n",
       " 34397491712: 418074079,\n",
       " 9127067792: 443432439,\n",
       " 8591114384: 858482685,\n",
       " 8590327952: 456027645,\n",
       " 4303388816: 183199741,\n",
       " 2685407744: 885759839,\n",
       " 2416972288: 883666847,\n",
       " 1216348304: 581660151,\n",
       " 1149239440: 313241335,\n",
       " 34360791554: 821759869,\n",
       " 4563407362: 419065787,\n",
       " 269488642: 821768126,\n",
       " 17247240352: 942513911,\n",
       " 8610906272: 342584823,\n",
       " 8606777504: 346795515,\n",
       " 8590262432: 414035453,\n",
       " 4833940480: 426367967,\n",
       " 4311810208: 212586235,\n",
       " 2290095104: 898231775,\n",
       " 2281979936: 740806511,\n",
       " 134545568: 682479102,\n",
       " 2685407240: 894279535,\n",
       " 2416971784: 892186543,\n",
       " 4303361026: 433680125,\n",
       " 4297069570: 427413437,\n",
       " 1145045128: 292409271,\n",
       " 537985160: 569219070,\n",
       " 142611458: 836333054,\n",
       " 17891464: 632262590,\n",
       " 20981764: 651087614,\n",
       " 134498306: 712429438,\n",
       " 4563408898: 444133115,\n",
       " 269490178: 846835454,\n",
       " 4833939472: 443210735,\n",
       " 2685407248: 910925551,\n",
       " 2290094096: 915074543,\n",
       " 1140981904: 321638139,\n",
       " 2417099264: 631498719,\n",
       " 75530384: 317433854,\n",
       " 67502224: 456052478,\n",
       " 67403920: 443518910,\n",
       " 17213429768: 990748155,\n",
       " 4563408904: 455928827,\n",
       " 1342832644: 296447727,\n",
       " 269490184: 858631166,\n",
       " 37754888: 458083838,\n",
       " 34494546176: 820430815,\n",
       " 17221812481: 686112503,\n",
       " 17215652096: 694540255,\n",
       " 17198874880: 627497951,\n",
       " 17221816576: 952975071,\n",
       " 17215525120: 946708383,\n",
       " 17213554945: 694509307,\n",
       " 17180524801: 828792573,\n",
       " 8623620353: 426078075,\n",
       " 8623554817: 417705915,\n",
       " 2290090241: 618983287,\n",
       " 1342832896: 291991263,\n",
       " 1342308866: 32730619,\n",
       " 1208549632: 818401183,\n",
       " 1140982274: 299093883,\n",
       " 269615618: 569599998,\n",
       " 34493960464: 846089211,\n",
       " 34393297168: 443485947,\n",
       " 8623620368: 457664507,\n",
       " 2290090256: 650569719,\n",
       " 8610914308: 885944239,\n",
       " 4831846913: 686186363,\n",
       " 2281705744: 911134651,\n",
       " 2155876624: 382643965,\n",
       " 1612718084: 552443759,\n",
       " 1145053696: 818401183,\n",
       " 71311873: 820432830,\n",
       " 17198743840: 610769911,\n",
       " 17181970720: 812489725,\n",
       " 8606777632: 348630011,\n",
       " 4833944576: 694540255,\n",
       " 4320142336: 763850463,\n",
       " 4313850880: 757583775,\n",
       " 9126814721: 828718587,\n",
       " 4831847425: 694509307,\n",
       " 4303365121: 698707709,\n",
       " 2415923488: 342732539,\n",
       " 75506689: 832941822,\n",
       " 37765192: 695685054,\n",
       " 2415923744: 346795515,\n",
       " 2151682592: 348900861,\n",
       " 35782724: 700043134,\n",
       " 9126814724: 835532795,\n",
       " 8606721028: 898576315,\n",
       " 538977284: 569219070,\n",
       " 18883588: 632262590,\n",
       " 8610916352: 910618079,\n",
       " 4563959872: 947089311,\n",
       " 8594139137: 845475325,\n",
       " 1612718096: 577215983,\n",
       " 1149247504: 847752943,\n",
       " 8606722052: 915320699,\n",
       " 8623620164: 966356859,\n",
       " 8594139140: 852289533,\n",
       " 2416050244: 632876795,\n",
       " 2415951940: 620343227,\n",
       " 1342187524: 581807867,\n",
       " 1216348432: 583494647,\n",
       " 1077946372: 583913213,\n",
       " 1075970320: 57134077,\n",
       " 269090884: 834301694,\n",
       " 268992580: 821768126,\n",
       " 35782928: 191350782,\n",
       " 4832362568: 961961847,\n",
       " 4831903816: 701815803,\n",
       " 4563927112: 959868855,\n",
       " 4295557192: 966184893,\n",
       " 2684371016: 628531067,\n",
       " 2155888712: 632729469,\n",
       " 2151694408: 628543421,\n",
       " 537460808: 836148734,\n",
       " 41959496: 699871102,\n",
       " 4295526401: 442748797,\n",
       " 134807809: 820432830,\n",
       " 2290094336: 885845855,\n",
       " 2416214020: 216903599,\n",
       " 1207977986: 578015099,\n",
       " 75530320: 852732926,\n",
       " 35782736: 724815358,\n",
       " 134807840: 818399230,\n",
       " 71311904: 818399230,\n",
       " 2281980928: 757583775,\n",
       " 2416312832: 229043679,\n",
       " 142610704: 852388862,\n",
       " 41947408: 449785598,\n",
       " 35655952: 443518910,\n",
       " 2416312324: 229437167}"
      ]
     },
     "execution_count": 39,
     "metadata": {},
     "output_type": "execute_result"
    }
   ],
   "source": [
    "TorNMinus1"
   ]
  },
  {
   "cell_type": "code",
   "execution_count": 40,
   "metadata": {},
   "outputs": [
    {
     "data": {
      "text/plain": [
       "248"
      ]
     },
     "execution_count": 40,
     "metadata": {},
     "output_type": "execute_result"
    }
   ],
   "source": [
    "len(TorNMinus1)"
   ]
  },
  {
   "cell_type": "code",
   "execution_count": 41,
   "metadata": {},
   "outputs": [
    {
     "data": {
      "text/plain": [
       "dict_keys([34431050240, 17255399425, 34494283778, 34494219266, 34494481412, 34494219268, 34493961218, 34427110402, 34427109890, 34397491208, 34380718084, 34377629704, 34377629698, 34376524804, 17221828616, 17221816328, 34427142160, 17247371776, 17247371266, 17198874626, 8607891458, 17215651844, 17247109633, 17213555201, 17198874628, 4833943568, 2685403649, 17247240706, 17247109634, 17180262914, 2148663809, 17247240736, 9127085056, 8610914336, 4563411488, 4563407392, 4313849888, 4832363521, 2684634112, 2416181792, 4832428040, 2290107392, 8590214146, 4320134146, 4313842690, 2290091009, 2281705760, 1611202568, 142623746, 134497282, 9127068676, 2684617732, 2281964548, 268829186, 67502594, 8627699776, 8627701760, 4832428096, 4563961856, 34397487172, 34360295492, 17180428289, 8627685377, 34431041608, 34397487176, 34393358408, 34360328264, 17180149762, 8627683396, 8607762434, 8590215170, 34426880080, 8623620176, 4833935440, 4303388752, 2155905104, 17196681220, 17180428292, 17180166148, 8627685380, 8610908164, 1342703620, 1208485892, 268994564, 268732420, 9127919617, 8594145376, 4832428033, 4563927136, 4295557216, 2151694432, 17213442056, 4563929096, 1342703624, 1216364546, 1077954568, 37767176, 8607825922, 17255399552, 17247371392, 17247273088, 17205067904, 9127919744, 9127133312, 8607891584, 8607826048, 17255366792, 17205035144, 4831903880, 4320166016, 4320133256, 4311810184, 1610678408, 1149239432, 9127854224, 34397491712, 9127067792, 8591114384, 8590327952, 4303388816, 2685407744, 2416972288, 1216348304, 1149239440, 34360791554, 4563407362, 269488642, 17247240352, 8610906272, 8606777504, 8590262432, 4833940480, 4311810208, 2290095104, 2281979936, 134545568, 2685407240, 2416971784, 4303361026, 4297069570, 1145045128, 537985160, 142611458, 17891464, 20981764, 134498306, 4563408898, 269490178, 4833939472, 2685407248, 2290094096, 1140981904, 2417099264, 75530384, 67502224, 67403920, 17213429768, 4563408904, 1342832644, 269490184, 37754888, 34494546176, 17221812481, 17215652096, 17198874880, 17221816576, 17215525120, 17213554945, 17180524801, 8623620353, 8623554817, 2290090241, 1342832896, 1342308866, 1208549632, 1140982274, 269615618, 34493960464, 34393297168, 8623620368, 2290090256, 8610914308, 4831846913, 2281705744, 2155876624, 1612718084, 1145053696, 71311873, 17198743840, 17181970720, 8606777632, 4833944576, 4320142336, 4313850880, 9126814721, 4831847425, 4303365121, 2415923488, 75506689, 37765192, 2415923744, 2151682592, 35782724, 9126814724, 8606721028, 538977284, 18883588, 8610916352, 4563959872, 8594139137, 1612718096, 1149247504, 8606722052, 8623620164, 8594139140, 2416050244, 2415951940, 1342187524, 1216348432, 1077946372, 1075970320, 269090884, 268992580, 35782928, 4832362568, 4831903816, 4563927112, 4295557192, 2684371016, 2155888712, 2151694408, 537460808, 41959496, 4295526401, 134807809, 2290094336, 2416214020, 1207977986, 75530320, 35782736, 134807840, 71311904, 2281980928, 2416312832, 142610704, 41947408, 35655952, 2416312324])"
      ]
     },
     "execution_count": 41,
     "metadata": {},
     "output_type": "execute_result"
    }
   ],
   "source": [
    "TorNMinus1.keys()"
   ]
  },
  {
   "cell_type": "code",
   "execution_count": 42,
   "metadata": {},
   "outputs": [
    {
     "data": {
      "text/plain": [
       "{17247371778: 970383359,\n",
       " 2290094352: 919531519,\n",
       " 8610916356: 919531519,\n",
       " 4832428104: 970383359}"
      ]
     },
     "execution_count": 42,
     "metadata": {},
     "output_type": "execute_result"
    }
   ],
   "source": [
    "TorN"
   ]
  },
  {
   "cell_type": "code",
   "execution_count": 43,
   "metadata": {},
   "outputs": [],
   "source": [
    "TorNMinus2Key=[]\n",
    "TorNMinus2Value=[]\n",
    "for k,v in TorNMinus2.items() :\n",
    "        TorNMinus2Key.append(k)\n",
    "        TorNMinus2Value.append(v)"
   ]
  },
  {
   "cell_type": "code",
   "execution_count": 44,
   "metadata": {},
   "outputs": [],
   "source": [
    "TorNMinus1Key=[]\n",
    "TorNMinus1Value=[]\n",
    "for k,v in TorNMinus1.items() :\n",
    "        TorNMinus1Key.append(k)\n",
    "        TorNMinus1Value.append(v)"
   ]
  },
  {
   "cell_type": "code",
   "execution_count": 45,
   "metadata": {},
   "outputs": [],
   "source": [
    "TorNKey=[]\n",
    "TorNValue=[]\n",
    "for k,v in TorN.items() :\n",
    "        TorNKey.append(k)\n",
    "        TorNValue.append(v)"
   ]
  },
  {
   "cell_type": "code",
   "execution_count": 46,
   "metadata": {},
   "outputs": [
    {
     "data": {
      "text/plain": [
       "[17247371778, 2290094352, 8610916356, 4832428104]"
      ]
     },
     "execution_count": 46,
     "metadata": {},
     "output_type": "execute_result"
    }
   ],
   "source": [
    "TorNKey"
   ]
  },
  {
   "cell_type": "code",
   "execution_count": 47,
   "metadata": {},
   "outputs": [
    {
     "data": {
      "text/plain": [
       "'0b100000110000010'"
      ]
     },
     "execution_count": 47,
     "metadata": {},
     "output_type": "execute_result"
    }
   ],
   "source": [
    "bin(16770)"
   ]
  },
  {
   "cell_type": "code",
   "execution_count": 48,
   "metadata": {},
   "outputs": [
    {
     "name": "stdout",
     "output_type": "stream",
     "text": [
      "[14, 1, 7, 8]\n"
     ]
    }
   ],
   "source": [
    "s=ensclique(16770,codinglist[4])\n",
    "ss=[]\n",
    "for e in s :\n",
    "    ss.append(codinglist[4].index(e))\n",
    "print(ss)\n",
    "    "
   ]
  },
  {
   "cell_type": "code",
   "execution_count": 49,
   "metadata": {},
   "outputs": [
    {
     "data": {
      "text/plain": [
       "[970383359, 919531519, 919531519, 970383359]"
      ]
     },
     "execution_count": 49,
     "metadata": {},
     "output_type": "execute_result"
    }
   ],
   "source": [
    "TorNValue"
   ]
  },
  {
   "cell_type": "code",
   "execution_count": 50,
   "metadata": {},
   "outputs": [
    {
     "data": {
      "text/plain": [
       "4"
      ]
     },
     "execution_count": 50,
     "metadata": {},
     "output_type": "execute_result"
    }
   ],
   "source": [
    "len(TorNKey)"
   ]
  },
  {
   "cell_type": "code",
   "execution_count": 51,
   "metadata": {},
   "outputs": [],
   "source": [
    "import pickle\n",
    "\n",
    "# define a list of places\n",
    "pList = TorNMinus2Key\n",
    "\n",
    "with open('TorNMinus2Key.data', 'wb') as filehandle:\n",
    "    # store the data as binary data stream\n",
    "    pickle.dump(pList, filehandle)"
   ]
  },
  {
   "cell_type": "code",
   "execution_count": 52,
   "metadata": {},
   "outputs": [],
   "source": [
    "import pickle\n",
    "\n",
    "# define a list of places\n",
    "pList = TorNMinus1Key\n",
    "\n",
    "with open('TorNMinus1Key.data', 'wb') as filehandle:\n",
    "    # store the data as binary data stream\n",
    "    pickle.dump(pList, filehandle)"
   ]
  },
  {
   "cell_type": "code",
   "execution_count": 53,
   "metadata": {},
   "outputs": [],
   "source": [
    "import pickle\n",
    "\n",
    "# define a list of places\n",
    "pList = TorNKey\n",
    "\n",
    "with open('TorNKey.data', 'wb') as filehandle:\n",
    "    # store the data as binary data stream\n",
    "    pickle.dump(pList, filehandle)"
   ]
  },
  {
   "cell_type": "code",
   "execution_count": 54,
   "metadata": {},
   "outputs": [],
   "source": [
    "import pickle\n",
    "\n",
    "# define a list of places\n",
    "\n",
    "\n",
    "with open('TorNMinus1Key.data', 'rb') as filehandle:\n",
    "    # store the data as binary data stream\n",
    "    T1=pickle.load(filehandle)"
   ]
  },
  {
   "cell_type": "code",
   "execution_count": 55,
   "metadata": {},
   "outputs": [],
   "source": [
    "\n",
    "\n",
    "# define a list of places\n",
    "\n",
    "\n",
    "with open('n.data', 'rb') as filehandle:\n",
    "    # store the data as binary data stream\n",
    "    N=pickle.load(filehandle)"
   ]
  },
  {
   "cell_type": "markdown",
   "metadata": {},
   "source": [
    "T1"
   ]
  },
  {
   "cell_type": "code",
   "execution_count": 56,
   "metadata": {},
   "outputs": [],
   "source": [
    "n=N[0]"
   ]
  },
  {
   "cell_type": "code",
   "execution_count": 57,
   "metadata": {},
   "outputs": [],
   "source": [
    "nextL=mapcoding(n)\n",
    "refvec1=codinglist[n]\n",
    "refvec2=codinglist[n+1]\n",
    "TorNMinus2updated={}\n",
    "for k in TorNMinus2Key :\n",
    "          s1=ensclique(k,refvec1)\n",
    "          s2=set([])\n",
    "          r=0\n",
    "          for e in s1 :\n",
    "                   e1=nextL[refvec1.index(e)]\n",
    "                   s2.add(e1)\n",
    "                   r=r|e1\n",
    "          k2=symboliclique(s2,refvec2)\n",
    "          TorNMinus2updated[k2]=r"
   ]
  },
  {
   "cell_type": "code",
   "execution_count": 58,
   "metadata": {},
   "outputs": [
    {
     "data": {
      "text/plain": [
       "{}"
      ]
     },
     "execution_count": 58,
     "metadata": {},
     "output_type": "execute_result"
    }
   ],
   "source": [
    "TorNMinus2updated"
   ]
  },
  {
   "cell_type": "code",
   "execution_count": 59,
   "metadata": {},
   "outputs": [],
   "source": [
    "nextL=mapcoding(n)\n",
    "refvec1=codinglist[n]\n",
    "refvec2=codinglist[n+1]\n",
    "TorNMinus1updated={}\n",
    "for k in TorNMinus1Key :\n",
    "          s1=ensclique(k,refvec1)\n",
    "          s2=set([])\n",
    "          r=0\n",
    "          for e in s1 :\n",
    "                   e1=nextL[refvec1.index(e)]\n",
    "                   s2.add(e1)\n",
    "                   r=r|e1\n",
    "          k2=symboliclique(s2,refvec2)\n",
    "          TorNMinus1updated[k2]=r"
   ]
  },
  {
   "cell_type": "code",
   "execution_count": 60,
   "metadata": {},
   "outputs": [
    {
     "data": {
      "text/plain": [
       "{281758453202944: 51776262047,\n",
       " 141029579686144: 51783325615,\n",
       " 282025336504832: 43190000559,\n",
       " 282025269920256: 43324349367,\n",
       " 282025806791680: 51978768311,\n",
       " 282025269920768: 43389360055,\n",
       " 282024737243648: 51915332539,\n",
       " 281750392013312: 26144546231,\n",
       " 281750391751168: 26010590903,\n",
       " 281621009795072: 26142383023,\n",
       " 281552294511616: 38893329839,\n",
       " 281545910781952: 39092885423,\n",
       " 281545910780416: 38894706095,\n",
       " 281543705101312: 39094853051,\n",
       " 140892123957248: 43387768751,\n",
       " 140892111374336: 60535659439,\n",
       " 281750425047040: 26409310127,\n",
       " 141013037613056: 60533987231,\n",
       " 141013037351424: 60470549935,\n",
       " 140810637017600: 39028743087,\n",
       " 70439745356288: 56175206063,\n",
       " 140879356494848: 43388456879,\n",
       " 141012500742400: 51984947131,\n",
       " 140875061788928: 43395144635,\n",
       " 140810637018112: 39093753775,\n",
       " 37387698704384: 43588997039,\n",
       " 19793357046016: 38898917047,\n",
       " 141012903395840: 60336791351,\n",
       " 141012500742656: 52014305211,\n",
       " 140738159706624: 43425291197,\n",
       " 17594468008192: 39100292797,\n",
       " 141012903403520: 61339490231,\n",
       " 72568321605632: 26140792735,\n",
       " 70446061985792: 56977365935,\n",
       " 36283892375552: 44193124283,\n",
       " 36283888181248: 27014305723,\n",
       " 35257394929664: 48353975983,\n",
       " 37384469610752: 26148167095,\n",
       " 19791763472384: 13255990687,\n",
       " 18692234813440: 14128421815,\n",
       " 37384536197120: 26241355695,\n",
       " 18159139028992: 39091933087,\n",
       " 70369298350592: 26144972605,\n",
       " 35270271959552: 13359750583,\n",
       " 35257387057664: 13259185975,\n",
       " 18159122252032: 39099800503,\n",
       " 18141946191872: 56979037883,\n",
       " 10996257130496: 19799104431,\n",
       " 566952985088: 34868137918,\n",
       " 550309986816: 43324874558,\n",
       " 72568304829440: 26243028919,\n",
       " 19791746696192: 13358226871,\n",
       " 18142479254528: 47650905911,\n",
       " 1100182979072: 9099123646,\n",
       " 275549258240: 26245537470,\n",
       " 70514789875712: 60235292447,\n",
       " 70514790891520: 26408357791,\n",
       " 37384536227840: 60335807903,\n",
       " 36284992061440: 26408357791,\n",
       " 281621005632512: 43191180727,\n",
       " 281476084040704: 51781574333,\n",
       " 140738596700416: 52186471357,\n",
       " 70514774114560: 26416225207,\n",
       " 281758444587008: 51914151863,\n",
       " 281621005633536: 43324349367,\n",
       " 281612482807808: 43391523771,\n",
       " 281476117596160: 51981720509,\n",
       " 140738043052544: 43593129405,\n",
       " 70514773099520: 60337528631,\n",
       " 70439612187136: 56443707063,\n",
       " 70369298874880: 26413276861,\n",
       " 281749888208896: 52182259643,\n",
       " 70506317385728: 60939934651,\n",
       " 37387690348544: 43592144823,\n",
       " 35201585549312: 43692955581,\n",
       " 17609399504896: 39398054845,\n",
       " 140806242436096: 39395940283,\n",
       " 140738596701184: 52280840125,\n",
       " 140738059830272: 43691431869,\n",
       " 70514774115328: 26510593975,\n",
       " 70446054638592: 22215890871,\n",
       " 9896679441408: 20035050935,\n",
       " 9346923627520: 54361267895,\n",
       " 1100619973632: 17954672574,\n",
       " 1100083102720: 9365264318,\n",
       " 72569982025984: 51783325615,\n",
       " 70377350930432: 52719097789,\n",
       " 37384536195328: 26013818287,\n",
       " 36284957499392: 61241925047,\n",
       " 35185512980480: 61342686653,\n",
       " 17600792797184: 39834295741,\n",
       " 140874945136640: 43790520251,\n",
       " 36284958509056: 26610470839,\n",
       " 9896679442432: 20168219575,\n",
       " 9363045483008: 36747189935,\n",
       " 8804700784640: 3055491005,\n",
       " 146046715904: 9497939902,\n",
       " 70439678247424: 56041053999,\n",
       " 141029579751424: 51777032095,\n",
       " 141013037416448: 60434898335,\n",
       " 141012936753152: 60233768735,\n",
       " 140823421321216: 38892526495,\n",
       " 72569982091264: 51777032095,\n",
       " 72568371478528: 26008017823,\n",
       " 70439745421312: 56139554463,\n",
       " 70439678312448: 56005402399,\n",
       " 141029546199040: 51979145143,\n",
       " 140823387768832: 39094639543,\n",
       " 37383462520832: 9096613819,\n",
       " 35270305054720: 13122772639,\n",
       " 35270271502336: 13324885687,\n",
       " 35253158742016: 13324984123,\n",
       " 10995183454208: 2654362555,\n",
       " 9088150865920: 19767140023,\n",
       " 72569914986496: 52180078519,\n",
       " 281621010055168: 26007640991,\n",
       " 72568304373760: 26411064247,\n",
       " 70371025948672: 52381454269,\n",
       " 70369415335936: 26612439997,\n",
       " 35201585582080: 9364672445,\n",
       " 19793361240064: 56038940319,\n",
       " 18693849612288: 56005402399,\n",
       " 9363028774912: 37214854071,\n",
       " 9088150867968: 20035050935,\n",
       " 281477128651264: 51781574333,\n",
       " 36283888173568: 26011606843,\n",
       " 1101663568384: 51781607230,\n",
       " 141012903206912: 61240401335,\n",
       " 70446053662720: 22652230583,\n",
       " 70437530836992: 22719404987,\n",
       " 70369348231168: 27014896573,\n",
       " 37387695030272: 26141480863,\n",
       " 35253158748160: 14129503675,\n",
       " 18159126446080: 56239823775,\n",
       " 18142495514624: 48353975983,\n",
       " 550359867392: 44194798526,\n",
       " 19793360979968: 56173682351,\n",
       " 18693849352192: 56140144431,\n",
       " 35201556677120: 26246225341,\n",
       " 35188671775232: 26145660733,\n",
       " 9079560931328: 19700064055,\n",
       " 2201237915648: 34866614206,\n",
       " 566940402176: 52016028606,\n",
       " 70934136832: 39094984510,\n",
       " 77318849536: 39396777406,\n",
       " 550310511104: 43593178814,\n",
       " 36283888960000: 26413866427,\n",
       " 1101664354816: 52183866814,\n",
       " 37387694510080: 26410178479,\n",
       " 19793360982016: 56441593263,\n",
       " 18159125925888: 56508521391,\n",
       " 9071105216512: 20169301435,\n",
       " 18693979635712: 39091933087,\n",
       " 292091400192: 17954672574,\n",
       " 275549065216: 26612538814,\n",
       " 275448401920: 26411409214,\n",
       " 140874932553728: 60938410939,\n",
       " 36283888961536: 26612045755,\n",
       " 9896812610560: 19766549935,\n",
       " 1101664356352: 52382046142,\n",
       " 146034132992: 26645830590,\n",
       " 282025873506304: 51776262047,\n",
       " 140892107309312: 43194310071,\n",
       " 140879356624896: 43320299423,\n",
       " 140810637148160: 39025596319,\n",
       " 140892111503360: 60334333343,\n",
       " 140879226601472: 60233768735,\n",
       " 140875061657856: 43328560571,\n",
       " 140738696446208: 51918757309,\n",
       " 70506317480192: 26148708027,\n",
       " 70506250371328: 26014555963,\n",
       " 18159121858816: 38899261111,\n",
       " 9896812740608: 19698392479,\n",
       " 9895739130368: 2655886267,\n",
       " 9346989817856: 53890457375,\n",
       " 9071105409536: 19802300091,\n",
       " 1101793591808: 34868137918,\n",
       " 282024736854016: 52180883387,\n",
       " 281612419993600: 26411277755,\n",
       " 70506317484032: 26644156347,\n",
       " 18159121862656: 39394709431,\n",
       " 70446061978624: 56039677743,\n",
       " 37383403995392: 43194605243,\n",
       " 18141946187776: 56442429243,\n",
       " 17609370243072: 22216875453,\n",
       " 10999419634688: 36745666223,\n",
       " 9079569514496: 53890457375,\n",
       " 283476492544: 51784654654,\n",
       " 140810502938624: 39831099319,\n",
       " 140741787656192: 52717574077,\n",
       " 70437530902528: 22751909819,\n",
       " 37387699224576: 43320299423,\n",
       " 35270280347648: 47649234335,\n",
       " 35257395445760: 47548669727,\n",
       " 72567776346368: 51918461883,\n",
       " 37383404257536: 43328560571,\n",
       " 35201560871168: 43395685821,\n",
       " 18691702005760: 22652820923,\n",
       " 292066689280: 51985685950,\n",
       " 146045700096: 43324874558,\n",
       " 18691702136832: 22719404987,\n",
       " 17600780443648: 22752992189,\n",
       " 141868172288: 43392638654,\n",
       " 72567776347136: 52012830651,\n",
       " 70437472568320: 56241200955,\n",
       " 2203327136768: 34866614206,\n",
       " 73023357952: 39094984510,\n",
       " 70446063026176: 56440363935,\n",
       " 36284991045632: 60235292447,\n",
       " 70377343549696: 52186815421,\n",
       " 10999419637760: 37146745775,\n",
       " 9088159191040: 54360186287,\n",
       " 70437473092608: 56509505211,\n",
       " 70506317382656: 60538855099,\n",
       " 70377343550464: 52281184189,\n",
       " 18691831923712: 39097441723,\n",
       " 18691731260416: 38896312123,\n",
       " 9895614088192: 37215444411,\n",
       " 9363028840448: 37247358903,\n",
       " 8804692395008: 37249031613,\n",
       " 8800522342400: 3055491005,\n",
       " 1100719621120: 51982736830,\n",
       " 1100618957824: 51781607230,\n",
       " 141868273664: 9497939902,\n",
       " 37384469121024: 60470943415,\n",
       " 37383462488064: 43424896955,\n",
       " 36284957493248: 60437405495,\n",
       " 35185512974336: 60538167101,\n",
       " 19791226112000: 39029726907,\n",
       " 17609382725632: 39096852157,\n",
       " 17600792791040: 39029776189,\n",
       " 2200164141056: 52015291326,\n",
       " 154635634688: 43391950526,\n",
       " 35185480433920: 26416717501,\n",
       " 550896795904: 51784654654,\n",
       " 18159126052864: 56039284383,\n",
       " 18692268098560: 13123362607,\n",
       " 9345866662400: 37149941435,\n",
       " 292091367424: 52282955710,\n",
       " 141868175360: 43793718206,\n",
       " 550896803840: 52816711614,\n",
       " 283476500480: 52816711614,\n",
       " 18142496030720: 47548669727,\n",
       " 18692369022976: 13322918815,\n",
       " 566940012544: 52281579454,\n",
       " 154623152128: 26511973822,\n",
       " 141738250240: 26411409214,\n",
       " 18692368761856: 13324492207}"
      ]
     },
     "execution_count": 60,
     "metadata": {},
     "output_type": "execute_result"
    }
   ],
   "source": [
    "TorNMinus1updated"
   ]
  },
  {
   "cell_type": "code",
   "execution_count": 61,
   "metadata": {},
   "outputs": [],
   "source": [
    "nextL=mapcoding(n)\n",
    "refvec1=codinglist[n]\n",
    "refvec2=codinglist[n+1]\n",
    "TorNupdated={}\n",
    "for k in TorNKey :\n",
    "          s1=ensclique(k,refvec1)\n",
    "          s2=set([])\n",
    "          r=0\n",
    "          for e in s1 :\n",
    "                   e1=nextL[refvec1.index(e)]\n",
    "                   s2.add(e1)\n",
    "                   r=r|e1\n",
    "          k2=symboliclique(s2,refvec2)\n",
    "          TorNupdated[k2]=r"
   ]
  },
  {
   "cell_type": "code",
   "execution_count": 62,
   "metadata": {},
   "outputs": [
    {
     "data": {
      "text/plain": [
       "{141013037613568: 60605292479,\n",
       " 18159126056960: 56576679871,\n",
       " 70446063027200: 56576679871,\n",
       " 37384536229888: 60605292479}"
      ]
     },
     "execution_count": 62,
     "metadata": {},
     "output_type": "execute_result"
    }
   ],
   "source": [
    "TorNupdated"
   ]
  },
  {
   "cell_type": "code",
   "execution_count": null,
   "metadata": {},
   "outputs": [],
   "source": []
  },
  {
   "cell_type": "code",
   "execution_count": null,
   "metadata": {},
   "outputs": [],
   "source": []
  },
  {
   "cell_type": "code",
   "execution_count": null,
   "metadata": {},
   "outputs": [],
   "source": []
  }
 ],
 "metadata": {
  "kernelspec": {
   "display_name": "Python 3",
   "language": "python",
   "name": "python3"
  },
  "language_info": {
   "codemirror_mode": {
    "name": "ipython",
    "version": 3
   },
   "file_extension": ".py",
   "mimetype": "text/x-python",
   "name": "python",
   "nbconvert_exporter": "python",
   "pygments_lexer": "ipython3",
   "version": "3.7.6"
  }
 },
 "nbformat": 4,
 "nbformat_minor": 4
}
