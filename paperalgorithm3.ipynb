{
 "cells": [
  {
   "cell_type": "code",
   "execution_count": 1,
   "metadata": {},
   "outputs": [],
   "source": [
    "from datetime import datetime"
   ]
  },
  {
   "cell_type": "code",
   "execution_count": 2,
   "metadata": {},
   "outputs": [],
   "source": [
    "import pickle\n",
    "\n",
    "with open('coding.data', 'rb') as filehandle:\n",
    "    # read the data as binary data stream\n",
    "    placesList2 = pickle.load(filehandle)"
   ]
  },
  {
   "cell_type": "code",
   "execution_count": 3,
   "metadata": {},
   "outputs": [],
   "source": [
    "codinglist=[]\n",
    "for i in range(len(placesList2)):\n",
    "    codinglist.append(placesList2[i])\n"
   ]
  },
  {
   "cell_type": "code",
   "execution_count": 4,
   "metadata": {},
   "outputs": [
    {
     "data": {
      "text/plain": [
       "[[],\n",
       " [],\n",
       " [],\n",
       " [],\n",
       " [8209,\n",
       "  131361,\n",
       "  66113,\n",
       "  1153,\n",
       "  16658,\n",
       "  8738,\n",
       "  132162,\n",
       "  67714,\n",
       "  33300,\n",
       "  17444,\n",
       "  10308,\n",
       "  135300,\n",
       "  1048,\n",
       "  34856,\n",
       "  20552,\n",
       "  8328],\n",
       " [131105,\n",
       "  8389697,\n",
       "  4196481,\n",
       "  2101505,\n",
       "  8705,\n",
       "  263202,\n",
       "  133186,\n",
       "  8392834,\n",
       "  4202754,\n",
       "  2114050,\n",
       "  526372,\n",
       "  266308,\n",
       "  139396,\n",
       "  8405252,\n",
       "  4227588,\n",
       "  1052712,\n",
       "  532552,\n",
       "  278664,\n",
       "  164104,\n",
       "  8454664,\n",
       "  8240,\n",
       "  1065040,\n",
       "  557200,\n",
       "  327952,\n",
       "  131600],\n",
       " [2097217,\n",
       "  536875137,\n",
       "  268443905,\n",
       "  134234625,\n",
       "  67142657,\n",
       "  67585,\n",
       "  4198466,\n",
       "  2105474,\n",
       "  536887554,\n",
       "  268468738,\n",
       "  134284290,\n",
       "  67241986,\n",
       "  8396868,\n",
       "  4210820,\n",
       "  2130180,\n",
       "  536936964,\n",
       "  268567556,\n",
       "  134481924,\n",
       "  16793672,\n",
       "  8421512,\n",
       "  4260104,\n",
       "  2228744,\n",
       "  537134088,\n",
       "  268961800,\n",
       "  33587280,\n",
       "  16842896,\n",
       "  8519952,\n",
       "  4456976,\n",
       "  2622480,\n",
       "  537921552,\n",
       "  65632,\n",
       "  33685664,\n",
       "  17039648,\n",
       "  8913440,\n",
       "  5243936,\n",
       "  2099232],\n",
       " [33554561,\n",
       "  34359755009,\n",
       "  17179902465,\n",
       "  8590001153,\n",
       "  4295100417,\n",
       "  2147749889,\n",
       "  532481,\n",
       "  67125378,\n",
       "  33587458,\n",
       "  34359804418,\n",
       "  17180001282,\n",
       "  8590198786,\n",
       "  4295495682,\n",
       "  2148540418,\n",
       "  134250628,\n",
       "  67174660,\n",
       "  33686020,\n",
       "  34360001540,\n",
       "  17180395524,\n",
       "  8590987268,\n",
       "  4297072644,\n",
       "  268501128,\n",
       "  134349064,\n",
       "  67371528,\n",
       "  34079752,\n",
       "  34360789000,\n",
       "  17181970440,\n",
       "  8594137096,\n",
       "  537002128,\n",
       "  268697872,\n",
       "  134742544,\n",
       "  68158480,\n",
       "  35653648,\n",
       "  34363936784,\n",
       "  17188266000,\n",
       "  1074004128,\n",
       "  537395488,\n",
       "  269484576,\n",
       "  136315936,\n",
       "  71305248,\n",
       "  41947168,\n",
       "  34376523808,\n",
       "  524480,\n",
       "  1074790720,\n",
       "  538968640,\n",
       "  272630848,\n",
       "  142608448,\n",
       "  83890240,\n",
       "  33562688],\n",
       " [536871169,\n",
       "  2199023321601,\n",
       "  1099511759873,\n",
       "  549756078081,\n",
       "  274878435329,\n",
       "  137440010241,\n",
       "  68721590273,\n",
       "  4227073,\n",
       "  1073807618,\n",
       "  537002498,\n",
       "  2199023518722,\n",
       "  1099512154114,\n",
       "  549756866562,\n",
       "  274880012290,\n",
       "  137443164162,\n",
       "  68727898114,\n",
       "  2147614980,\n",
       "  1074004484,\n",
       "  537396228,\n",
       "  2199024306180,\n",
       "  1099513729028,\n",
       "  549760016388,\n",
       "  274886311940,\n",
       "  137455763460,\n",
       "  4295229704,\n",
       "  2148008456,\n",
       "  1074791432,\n",
       "  538970120,\n",
       "  2199027453960,\n",
       "  1099520024584,\n",
       "  549772607496,\n",
       "  274911494152,\n",
       "  8590459152,\n",
       "  4296016400,\n",
       "  2149581840,\n",
       "  1077938192,\n",
       "  545263632,\n",
       "  2199040040976,\n",
       "  1099545198608,\n",
       "  549822955536,\n",
       "  17180918048,\n",
       "  8592032288,\n",
       "  4299162656,\n",
       "  2155874336,\n",
       "  1090523168,\n",
       "  570433568,\n",
       "  2199090380832,\n",
       "  1099645878304,\n",
       "  34361835840,\n",
       "  17184064064,\n",
       "  8598324288,\n",
       "  4311746624,\n",
       "  2181042240,\n",
       "  1140858944,\n",
       "  671105088,\n",
       "  2199291723840,\n",
       "  4194688,\n",
       "  34368127616,\n",
       "  17196647552,\n",
       "  8623491200,\n",
       "  4362080384,\n",
       "  2281709696,\n",
       "  1342193792,\n",
       "  536903808],\n",
       " [8589935105,\n",
       "  140737488618497,\n",
       "  70368744704001,\n",
       "  35184373141505,\n",
       "  17592188149761,\n",
       "  8796097232897,\n",
       "  4398054932481,\n",
       "  2199040098305,\n",
       "  33685505,\n",
       "  17180131842,\n",
       "  8590459906,\n",
       "  140737489405954,\n",
       "  70368746278914,\n",
       "  35184376291330,\n",
       "  17592194449410,\n",
       "  8796109832194,\n",
       "  4398080131074,\n",
       "  2199090495490,\n",
       "  34360263172,\n",
       "  17180918788,\n",
       "  8592033796,\n",
       "  140737492553732,\n",
       "  70368752574468,\n",
       "  35184388882436,\n",
       "  17592219631620,\n",
       "  8796160196612,\n",
       "  4398180859908,\n",
       "  68720525832,\n",
       "  34361836552,\n",
       "  17184065544,\n",
       "  8598327304,\n",
       "  140737505140744,\n",
       "  70368777748488,\n",
       "  35184439230472,\n",
       "  17592320327688,\n",
       "  8796361588744,\n",
       "  137441051152,\n",
       "  68723672080,\n",
       "  34368129040,\n",
       "  17196650512,\n",
       "  8623497232,\n",
       "  140737555480592,\n",
       "  70368878428176,\n",
       "  35184640589840,\n",
       "  17592723046416,\n",
       "  274882101792,\n",
       "  137447343136,\n",
       "  68736256032,\n",
       "  34393296928,\n",
       "  17246986272,\n",
       "  8724168736,\n",
       "  140737756823584,\n",
       "  70369281114144,\n",
       "  35185445961760,\n",
       "  549764203072,\n",
       "  274894685248,\n",
       "  137472510016,\n",
       "  68786589760,\n",
       "  34493964352,\n",
       "  17448321088,\n",
       "  9126838336,\n",
       "  140738562162752,\n",
       "  70370891792448,\n",
       "  1099528405632,\n",
       "  549789369472,\n",
       "  274945017984,\n",
       "  137573175424,\n",
       "  68987920512,\n",
       "  34896625792,\n",
       "  18253643904,\n",
       "  10737483904,\n",
       "  140741783453824,\n",
       "  33555200,\n",
       "  1099578737920,\n",
       "  549890033920,\n",
       "  275146346752,\n",
       "  137975832832,\n",
       "  69793235200,\n",
       "  36507255040,\n",
       "  21474902272,\n",
       "  8590065920],\n",
       " [137438954497,\n",
       "  9007199255791617,\n",
       "  4503599629471745,\n",
       "  2251799817887745,\n",
       "  1125899915247617,\n",
       "  562949970231297,\n",
       "  281475010330625,\n",
       "  140737555595265,\n",
       "  70368878657537,\n",
       "  268959745,\n",
       "  274878956546,\n",
       "  137441052674,\n",
       "  9007199258939394,\n",
       "  4503599635767298,\n",
       "  2251799830478850,\n",
       "  1125899940429826,\n",
       "  562950020595714,\n",
       "  281475111059458,\n",
       "  140737757052930,\n",
       "  70369281572866,\n",
       "  549757912068,\n",
       "  274882103300,\n",
       "  137447346180,\n",
       "  9007199271526404,\n",
       "  4503599660941316,\n",
       "  2251799880826884,\n",
       "  1125900041125892,\n",
       "  562950221987844,\n",
       "  281475513843716,\n",
       "  140738562621444,\n",
       "  1099515823112,\n",
       "  549764204552,\n",
       "  274894688264,\n",
       "  137472516104,\n",
       "  9007199321866248,\n",
       "  4503599761621000,\n",
       "  2251800082186248,\n",
       "  1125900443844616,\n",
       "  562951027425288,\n",
       "  281477124718600,\n",
       "  2199031645200,\n",
       "  1099528407056,\n",
       "  549789372432,\n",
       "  274945024016,\n",
       "  137573187600,\n",
       "  9007199523209232,\n",
       "  4503600164306960,\n",
       "  2251800887558160,\n",
       "  1125902054588432,\n",
       "  562954248912912,\n",
       "  4398063289376,\n",
       "  2199056812064,\n",
       "  1099578740768,\n",
       "  549890039840,\n",
       "  275146358816,\n",
       "  137975857184,\n",
       "  9007200328548384,\n",
       "  4503601774985248,\n",
       "  2251804108914720,\n",
       "  1125908497301536,\n",
       "  8796126577728,\n",
       "  4398113622080,\n",
       "  2199157477440,\n",
       "  1099780071488,\n",
       "  550292701248,\n",
       "  275951681600,\n",
       "  139586502720,\n",
       "  9007203549839424,\n",
       "  4503608217567296,\n",
       "  2251816994078784,\n",
       "  17592253154432,\n",
       "  8796227242112,\n",
       "  4398314950784,\n",
       "  2199560134784,\n",
       "  1100585386112,\n",
       "  551903330432,\n",
       "  279172939904,\n",
       "  146029019264,\n",
       "  9007216434872448,\n",
       "  4503633987633280,\n",
       "  35184506307840,\n",
       "  17592454482176,\n",
       "  8796629897472,\n",
       "  4399120261376,\n",
       "  2201170755840,\n",
       "  1103806628096,\n",
       "  558345814272,\n",
       "  292057907456,\n",
       "  171798954240,\n",
       "  9007267974742272,\n",
       "  268436992,\n",
       "  35184908962304,\n",
       "  17593259790848,\n",
       "  8798240514560,\n",
       "  4402341495296,\n",
       "  2207613223424,\n",
       "  1116691563008,\n",
       "  584115683840,\n",
       "  343597646336,\n",
       "  137439478272],\n",
       " [2199023257601,\n",
       "  576460752307621889,\n",
       "  288230376160108545,\n",
       "  144115188092649473,\n",
       "  72057594071515137,\n",
       "  36028797086138369,\n",
       "  18014398643830785,\n",
       "  9007199523438593,\n",
       "  4503600164765697,\n",
       "  2251800888475649,\n",
       "  2149580801,\n",
       "  4398050707458,\n",
       "  2199031648258,\n",
       "  576460752320208898,\n",
       "  288230376185282562,\n",
       "  144115188142997506,\n",
       "  72057594172211202,\n",
       "  36028797287530498,\n",
       "  18014399046615042,\n",
       "  9007200329007106,\n",
       "  4503601775902722,\n",
       "  2251804110749698,\n",
       "  8796101412868,\n",
       "  4398063292420,\n",
       "  2199056818180,\n",
       "  576460752370548740,\n",
       "  288230376285962244,\n",
       "  144115188344356868,\n",
       "  72057594574929924,\n",
       "  36028798092967940,\n",
       "  18014400657489924,\n",
       "  9007203550756868,\n",
       "  4503608219402244,\n",
       "  17592202823688,\n",
       "  8796126580744,\n",
       "  4398113628168,\n",
       "  2199157489672,\n",
       "  576460752571891720,\n",
       "  288230376688648200,\n",
       "  144115189149728776,\n",
       "  72057596185673736,\n",
       "  36028801314455560,\n",
       "  18014407100465160,\n",
       "  9007216436707336,\n",
       "  35184405645328,\n",
       "  17592253157392,\n",
       "  8796227248144,\n",
       "  4398314962960,\n",
       "  2199560159248,\n",
       "  576460753377230864,\n",
       "  288230378299326480,\n",
       "  144115192371085328,\n",
       "  72057602628386832,\n",
       "  36028814199881744,\n",
       "  18014432871317520,\n",
       "  70368811288608,\n",
       "  35184506310688,\n",
       "  17592454488096,\n",
       "  8796629909536,\n",
       "  4399120285728,\n",
       "  2201170804768,\n",
       "  576460756598521888,\n",
       "  288230384741908512,\n",
       "  144115205256249376,\n",
       "  72057628398714912,\n",
       "  36028865740537888,\n",
       "  140737622575168,\n",
       "  70369012617280,\n",
       "  35184908968000,\n",
       "  17593259802688,\n",
       "  8798240538688,\n",
       "  4402341544000,\n",
       "  2207613321280,\n",
       "  576460769483554880,\n",
       "  288230410511974464,\n",
       "  144115256796381248,\n",
       "  72057731478978624,\n",
       "  281475245148288,\n",
       "  140738025230464,\n",
       "  70369817927808,\n",
       "  35186519588992,\n",
       "  17596481044608,\n",
       "  8804683022464,\n",
       "  4415226511488,\n",
       "  2233383256192,\n",
       "  576460821023424640,\n",
       "  288230513591713920,\n",
       "  144115462955860096,\n",
       "  562950490294528,\n",
       "  281476050456832,\n",
       "  140739635847424,\n",
       "  70373039161600,\n",
       "  35192962056448,\n",
       "  17609365979392,\n",
       "  8830452891904,\n",
       "  4466766250240,\n",
       "  2336462733568,\n",
       "  576461027182379264,\n",
       "  288230925909623040,\n",
       "  1125900980587008,\n",
       "  562952100909568,\n",
       "  281479271686656,\n",
       "  140746078306816,\n",
       "  70385924080128,\n",
       "  35218731893248,\n",
       "  17660905652736,\n",
       "  8933532238336,\n",
       "  4672924942848,\n",
       "  2748780118528,\n",
       "  576461851817148928,\n",
       "  2147486720,\n",
       "  1125904201815040,\n",
       "  562958543365120,\n",
       "  281492156597248,\n",
       "  140771848127488,\n",
       "  70437463720960,\n",
       "  35321811174400,\n",
       "  17867064214528,\n",
       "  9345849361408,\n",
       "  5497559188480,\n",
       "  2199025353728]]"
      ]
     },
     "execution_count": 4,
     "metadata": {},
     "output_type": "execute_result"
    }
   ],
   "source": [
    "codinglist"
   ]
  },
  {
   "cell_type": "code",
   "execution_count": 5,
   "metadata": {},
   "outputs": [],
   "source": [
    "def mapcoding(n):\n",
    "    l=codinglist[n]\n",
    "    lu=codinglist[n+1]\n",
    "    ln=[]\n",
    "    co=-1\n",
    "    li=0\n",
    "    for i in range(len(l)):\n",
    "        co=co+1\n",
    "        if co ==n:\n",
    "            co=0\n",
    "            li=li+1\n",
    "        \n",
    "        ln.append(lu[(i+li)])\n",
    "    return ln"
   ]
  },
  {
   "cell_type": "code",
   "execution_count": 6,
   "metadata": {},
   "outputs": [],
   "source": [
    "import math\n",
    "def puiss(i):\n",
    "    p=int(math.pow(2,i))\n",
    "    \n",
    "    return p"
   ]
  },
  {
   "cell_type": "code",
   "execution_count": 7,
   "metadata": {},
   "outputs": [],
   "source": [
    "def MAX(sets):\n",
    "    #this function return max in integer set\n",
    "    return (max(sets)) "
   ]
  },
  {
   "cell_type": "code",
   "execution_count": 8,
   "metadata": {},
   "outputs": [],
   "source": [
    "def settovector(ens,refvec):\n",
    "    #this function convert set to vector\n",
    "    vl=[]\n",
    "    for i in range(len(refvec)):\n",
    "           vl.append(0) \n",
    "    for i in ens:\n",
    "        if i in refvec :\n",
    "            vl[refvec.index(i)]=1\n",
    "       \n",
    "    return vl"
   ]
  },
  {
   "cell_type": "code",
   "execution_count": 9,
   "metadata": {},
   "outputs": [],
   "source": [
    "def Bitset(i):\n",
    "    #this function convert vector bit to integer\n",
    "    y= ''.join(map(str, i)) \n",
    "    a=bin(int(y, 2))\n",
    "    b=int(a, 2)\n",
    "    return b"
   ]
  },
  {
   "cell_type": "code",
   "execution_count": 10,
   "metadata": {},
   "outputs": [],
   "source": [
    "def liste2listint(l1,refvec):\n",
    "    l2=[]\n",
    "    for i in l1:\n",
    "        l2.append(Bitset(settovector(i,refvec)))\n",
    "    return l2"
   ]
  },
  {
   "cell_type": "code",
   "execution_count": 11,
   "metadata": {},
   "outputs": [],
   "source": [
    "def chartoint(c):\n",
    "    #this function convert character '1' to 1 and '0' to 0\n",
    "    if c=='1':\n",
    "        return 1\n",
    "    else:\n",
    "        return 0"
   ]
  },
  {
   "cell_type": "code",
   "execution_count": 12,
   "metadata": {},
   "outputs": [],
   "source": [
    "def Convert(string): \n",
    "    #this function convert string to a list\n",
    "    list1=[] \n",
    "    list1[:0]=string \n",
    "    return list1"
   ]
  },
  {
   "cell_type": "code",
   "execution_count": 13,
   "metadata": {},
   "outputs": [],
   "source": [
    "def listchartoint(l):\n",
    "    #this function convert lsit of char to bit vector\n",
    "    l2=[]\n",
    "    for i in l:\n",
    "        l2.append(chartoint(i))\n",
    "    return l2"
   ]
  },
  {
   "cell_type": "code",
   "execution_count": 14,
   "metadata": {},
   "outputs": [],
   "source": [
    "def vectortoset(v,refvec):\n",
    "    #this function convert binary vector to set \n",
    "    s=[]\n",
    "    for i in  range(len(v)) :\n",
    "        if v[i]==1:\n",
    "            s.append(refvec[i])\n",
    "    return set(s)"
   ]
  },
  {
   "cell_type": "code",
   "execution_count": 15,
   "metadata": {},
   "outputs": [],
   "source": [
    "def decimalToBinary(n): \n",
    "    #this function convert integer to binary string\n",
    "    return bin(n).replace(\"0b\", \"\") "
   ]
  },
  {
   "cell_type": "code",
   "execution_count": 16,
   "metadata": {},
   "outputs": [],
   "source": [
    "def remplir(lm,c):\n",
    "    #this function fill the missing 0 in vector\n",
    "    k=[]\n",
    "    f=c-len(lm)\n",
    "    for i in range(f):\n",
    "        k.append(0)\n",
    "    k=k+lm\n",
    "    return k"
   ]
  },
  {
   "cell_type": "code",
   "execution_count": 17,
   "metadata": {},
   "outputs": [],
   "source": [
    "def inttoset(n,refvec):\n",
    "    #this function convert integer to set\n",
    "    \n",
    "        f=decimalToBinary(n)\n",
    "        #l=Convert(f)\n",
    "        l3=listchartoint(f)\n",
    "        l4=remplir(l3,len(refvec))\n",
    "        return vectortoset(l4,refvec)\n",
    "   "
   ]
  },
  {
   "cell_type": "code",
   "execution_count": 18,
   "metadata": {},
   "outputs": [],
   "source": [
    "def listeint2listset(l,refvec):\n",
    "    l2=[]\n",
    "    for i in l or []:\n",
    "        l2.append(inttoset(i,refvec))\n",
    "    return l2"
   ]
  },
  {
   "cell_type": "code",
   "execution_count": 19,
   "metadata": {},
   "outputs": [],
   "source": [
    "def oneinttobitvect(k,refvec):\n",
    "    vec=[]\n",
    "    for i in range(len(refvec)):\n",
    "           vec.append(0) \n",
    "    if k in refvec:\n",
    "        vec[refvec.index(k)]=1\n",
    "    return Bitset(vec)\n",
    "    "
   ]
  },
  {
   "cell_type": "code",
   "execution_count": 20,
   "metadata": {},
   "outputs": [],
   "source": [
    "def symboliclique(s,refvec):\n",
    "    c=Bitset(settovector(s,refvec))\n",
    "    return c"
   ]
  },
  {
   "cell_type": "code",
   "execution_count": 21,
   "metadata": {},
   "outputs": [],
   "source": [
    "def ensclique(c,refvec):\n",
    "    s=set([])\n",
    "    s=inttoset(c,refvec)\n",
    "    return s"
   ]
  },
  {
   "cell_type": "code",
   "execution_count": 22,
   "metadata": {},
   "outputs": [],
   "source": [
    "def splitt2(i,c,zero,one,treated):\n",
    "        m=refvec[i]\n",
    "        r=ensclique(c,refvec)\n",
    "        s= list(r)\n",
    "        #t=r-treated\n",
    "        zero=list(filter(lambda x:   (x &m==0), s))\n",
    "        zero.append(m)\n",
    "        one=list(r-set([m]))\n",
    "        #list(filter(lambda x:  ((x!=m) and  (x &m!=0)), s))\n",
    "        mate=symboliclique(set(zero),refvec)\n",
    "        rival=symboliclique(set(one),refvec)\n",
    "        return (mate,rival)"
   ]
  },
  {
   "cell_type": "code",
   "execution_count": 23,
   "metadata": {},
   "outputs": [],
   "source": [
    "def  countSetBits(n): \n",
    "    count = 0\n",
    "    while (n): \n",
    "        count += n & 1\n",
    "        n >>= 1\n",
    "    return count "
   ]
  },
  {
   "cell_type": "code",
   "execution_count": 24,
   "metadata": {},
   "outputs": [],
   "source": [
    "with open('n.data', 'rb') as filehandle:\n",
    "    # store the data as binary data stream\n",
    "    N=pickle.load(filehandle)"
   ]
  },
  {
   "cell_type": "code",
   "execution_count": 25,
   "metadata": {},
   "outputs": [],
   "source": [
    "n=N[0]"
   ]
  },
  {
   "cell_type": "code",
   "execution_count": 26,
   "metadata": {},
   "outputs": [],
   "source": [
    "l=codinglist[n+1]"
   ]
  },
  {
   "cell_type": "code",
   "execution_count": 27,
   "metadata": {},
   "outputs": [
    {
     "data": {
      "text/plain": [
       "25"
      ]
     },
     "execution_count": 27,
     "metadata": {},
     "output_type": "execute_result"
    }
   ],
   "source": [
    "len(l)"
   ]
  },
  {
   "cell_type": "code",
   "execution_count": null,
   "metadata": {},
   "outputs": [],
   "source": []
  },
  {
   "cell_type": "code",
   "execution_count": 28,
   "metadata": {},
   "outputs": [],
   "source": [
    "Minit=[]\n",
    "i=n\n",
    "#print(i)\n",
    "while i < (len(l)-1):\n",
    "        Minit.append(l[i])\n",
    "        i=i+(n+1)\n",
    "#print(i)\n",
    "i=i-(n+1)\n",
    "i=i+1\n",
    "while i <= (len(l)-1):\n",
    "    Minit.append(l[i])\n",
    "    i=i+1"
   ]
  },
  {
   "cell_type": "code",
   "execution_count": 29,
   "metadata": {},
   "outputs": [
    {
     "data": {
      "text/plain": [
       "[8705, 2114050, 4227588, 8454664, 8240, 1065040, 557200, 327952, 131600]"
      ]
     },
     "execution_count": 29,
     "metadata": {},
     "output_type": "execute_result"
    }
   ],
   "source": [
    "Minit"
   ]
  },
  {
   "cell_type": "code",
   "execution_count": 30,
   "metadata": {},
   "outputs": [],
   "source": [
    "def OrOp(c,refvec):\n",
    "    \n",
    "    s=ensclique(c,refvec)\n",
    "    r=0\n",
    "    for e in s :\n",
    "        r=r|e\n",
    "    return r"
   ]
  },
  {
   "cell_type": "code",
   "execution_count": 31,
   "metadata": {},
   "outputs": [
    {
     "name": "stdout",
     "output_type": "stream",
     "text": [
      "symbolic representation  1048578\n",
      "set representation  {327952, 8705}\n",
      "symbolic representation  32770\n",
      "set representation  {327952, 2114050}\n",
      "symbolic representation  1048580\n",
      "set representation  {557200, 8705}\n",
      "symbolic representation  32772\n",
      "set representation  {557200, 2114050}\n",
      "symbolic representation  1026\n",
      "set representation  {327952, 4227588}\n",
      "symbolic representation  36\n",
      "set representation  {8454664, 557200}\n",
      "symbolic representation  1048584\n",
      "set representation  {1065040, 8705}\n",
      "symbolic representation  1032\n",
      "set representation  {1065040, 4227588}\n",
      "symbolic representation  40\n",
      "set representation  {8454664, 1065040}\n",
      "symbolic representation  32784\n",
      "set representation  {8240, 2114050}\n",
      "symbolic representation  1040\n",
      "set representation  {8240, 4227588}\n",
      "symbolic representation  48\n",
      "set representation  {8454664, 8240}\n",
      "The number of solution is  12\n",
      "Wall time: 15 ms\n"
     ]
    }
   ],
   "source": [
    "%%time\n",
    "#l=[3840, 61441, 458754, 528644, 74248, 1721360,1345568]  \n",
    "refvec=l             \n",
    "nn=len(Minit)\n",
    "#nn=math.ceil(math.sqrt(n))\n",
    "M=[symboliclique(set(Minit),refvec)]\n",
    "\n",
    "mi=Minit[0]\n",
    "#id=1086357584\n",
    "#iid=refvec.index(id)\n",
    "#idvec=oneinttobitvect(id,refvec)\n",
    "ens=set([])      #[1086357584,67117216]\n",
    "idvec=Bitset(settovector(ens,refvec))\n",
    "#print(idvec)\n",
    "i=0\n",
    "treated=set([])\n",
    "#print(\" iteration N= \",i,\"treaed =\",treated)\n",
    "#print(\"partition =\",i,\"=\",refvec)\n",
    "#s=[ensclique(e)for e in M]\n",
    "#print(\"partition =\",i,\"=\",s)\n",
    "#print(\"-------------------------------------------------\" )\n",
    "while (len(treated) !=nn):\n",
    "         if (mi not in treated) :\n",
    "                treated.add(mi) \n",
    "                #print(\"treated=\",treated)\n",
    "                #print(\"*************************\")\n",
    "                temp=[]\n",
    "                for c in M:\n",
    "                    r=ensclique(c,refvec)\n",
    "                    if mi in r :\n",
    "                        z1=[]\n",
    "                        o1=[]\n",
    "                        (z1,o1)=splitt2(refvec.index(mi),c,z1,o1,treated)\n",
    "                        #print(ensclique(z1))\n",
    "                        #print(ensclique(o1)) \n",
    "                        if idvec&z1==idvec:\n",
    "                               if z1 not in temp :\n",
    "                                      if countSetBits(z1)>= 2:\n",
    "                                            temp.append(z1)\n",
    "                        if idvec&o1==idvec:\n",
    "                               if o1 not in temp :\n",
    "                                    if countSetBits(o1)>= 2:\n",
    "                                          temp.append(o1)\n",
    "                    else:\n",
    "                         if idvec&c==idvec:\n",
    "                            if c not in temp :\n",
    "                                      temp.append(c)\n",
    "                    \n",
    "         else:\n",
    "                i=i+1\n",
    "                mi=Minit[i]      \n",
    "                \n",
    "         \n",
    "         M= temp           #eliminationdouble1(temp)\n",
    "         #print(\" iteration N= \",i,\"treaed =\",treated)\n",
    "         #print(\"partition\",i, \"=\",M)\n",
    "         #s=[ensclique(e)for e in M]\n",
    "         #print(s)\n",
    "         #print(\"-------------------------------------------------\" )\n",
    "    \n",
    "    \n",
    "#print(i)\n",
    "#M=eliminationdouble1(temp)\n",
    "Mi=list(set(M))    #eliminationdouble1(M)    \n",
    "Tor={}\n",
    "#TorN={}\n",
    "\n",
    "co=0\n",
    "for e in range(len(Mi)) :\n",
    "     if countSetBits(Mi[e])==2:\n",
    "             co=co+1\n",
    "             print(\"symbolic representation \",Mi[e])\n",
    "             Tor[Mi[e]]=OrOp(Mi[e],refvec)\n",
    "             print(\"set representation \",ensclique(Mi[e],refvec))\n",
    "             #print(\"*-*-*-*-*-*-*-*-*-*-*-*-*-*-*-*-*-*-*-*\")\n",
    "     \n",
    "\n",
    "     \n",
    "print(\"The number of solution is \",co)     "
   ]
  },
  {
   "cell_type": "code",
   "execution_count": 32,
   "metadata": {},
   "outputs": [
    {
     "data": {
      "text/plain": [
       "{1048578: 336657,\n",
       " 32770: 2442002,\n",
       " 1048580: 565905,\n",
       " 32772: 2671250,\n",
       " 1026: 4555540,\n",
       " 36: 9011864,\n",
       " 1048584: 1073745,\n",
       " 1032: 5292628,\n",
       " 40: 9519704,\n",
       " 32784: 2122290,\n",
       " 1040: 4235828,\n",
       " 48: 8462904}"
      ]
     },
     "execution_count": 32,
     "metadata": {},
     "output_type": "execute_result"
    }
   ],
   "source": [
    "Tor"
   ]
  },
  {
   "cell_type": "code",
   "execution_count": 33,
   "metadata": {},
   "outputs": [
    {
     "data": {
      "text/plain": [
       "12"
      ]
     },
     "execution_count": 33,
     "metadata": {},
     "output_type": "execute_result"
    }
   ],
   "source": [
    "len(Tor)"
   ]
  },
  {
   "cell_type": "code",
   "execution_count": 34,
   "metadata": {},
   "outputs": [
    {
     "name": "stdout",
     "output_type": "stream",
     "text": [
      "12\n"
     ]
    }
   ],
   "source": [
    "bb=(n)*(n-1)\n",
    "print(bb)"
   ]
  },
  {
   "cell_type": "code",
   "execution_count": 35,
   "metadata": {},
   "outputs": [],
   "source": [
    "import pickle\n",
    "\n",
    "# define a list of places\n",
    "\n",
    "\n",
    "with open('TorNMinus2Key.data', 'rb') as filehandle:\n",
    "    # store the data as binary data stream\n",
    "    TorNMinus2Key=pickle.load(filehandle)"
   ]
  },
  {
   "cell_type": "code",
   "execution_count": 36,
   "metadata": {},
   "outputs": [
    {
     "data": {
      "text/plain": [
       "[33280,\n",
       " 33024,\n",
       " 32770,\n",
       " 32772,\n",
       " 16640,\n",
       " 16512,\n",
       " 16392,\n",
       " 16386,\n",
       " 32784,\n",
       " 8208,\n",
       " 8196,\n",
       " 4100,\n",
       " 640,\n",
       " 4224,\n",
       " 513,\n",
       " 16416,\n",
       " 5120,\n",
       " 4128,\n",
       " 2080,\n",
       " 516,\n",
       " 8193,\n",
       " 8200,\n",
       " 40,\n",
       " 1026,\n",
       " 16385,\n",
       " 264,\n",
       " 129,\n",
       " 4098,\n",
       " 32832,\n",
       " 10240,\n",
       " 8256,\n",
       " 6144,\n",
       " 2049,\n",
       " 384,\n",
       " 1032,\n",
       " 65,\n",
       " 320,\n",
       " 130,\n",
       " 2052,\n",
       " 2064,\n",
       " 258,\n",
       " 20,\n",
       " 1040,\n",
       " 24]"
      ]
     },
     "execution_count": 36,
     "metadata": {},
     "output_type": "execute_result"
    }
   ],
   "source": [
    " TorNMinus2Key"
   ]
  },
  {
   "cell_type": "code",
   "execution_count": 37,
   "metadata": {},
   "outputs": [
    {
     "data": {
      "text/plain": [
       "44"
      ]
     },
     "execution_count": 37,
     "metadata": {},
     "output_type": "execute_result"
    }
   ],
   "source": [
    "len(TorNMinus2Key)"
   ]
  },
  {
   "cell_type": "code",
   "execution_count": 38,
   "metadata": {},
   "outputs": [],
   "source": [
    "import pickle\n",
    "\n",
    "# define a list of places\n",
    "\n",
    "\n",
    "with open('TorNMinus1Key.data', 'rb') as filehandle:\n",
    "    # store the data as binary data stream\n",
    "    TorNMinus1Key=pickle.load(filehandle)"
   ]
  },
  {
   "cell_type": "code",
   "execution_count": 39,
   "metadata": {},
   "outputs": [
    {
     "data": {
      "text/plain": [
       "[33026,\n",
       " 33284,\n",
       " 16768,\n",
       " 16648,\n",
       " 16642,\n",
       " 16513,\n",
       " 16514,\n",
       " 10256,\n",
       " 4226,\n",
       " 32788,\n",
       " 8212,\n",
       " 8216,\n",
       " 2068,\n",
       " 1048,\n",
       " 641,\n",
       " 6176,\n",
       " 16424,\n",
       " 5122,\n",
       " 33088,\n",
       " 8257,\n",
       " 10241,\n",
       " 10244,\n",
       " 6148,\n",
       " 386]"
      ]
     },
     "execution_count": 39,
     "metadata": {},
     "output_type": "execute_result"
    }
   ],
   "source": [
    "TorNMinus1Key"
   ]
  },
  {
   "cell_type": "code",
   "execution_count": 40,
   "metadata": {},
   "outputs": [],
   "source": [
    "import pickle\n",
    "\n",
    "# define a list of places\n",
    "\n",
    "\n",
    "with open('TorNKey.data', 'rb') as filehandle:\n",
    "    # store the data as binary data stream\n",
    "    TorNKey=pickle.load(filehandle)"
   ]
  },
  {
   "cell_type": "code",
   "execution_count": 41,
   "metadata": {},
   "outputs": [
    {
     "data": {
      "text/plain": [
       "[16770, 10260]"
      ]
     },
     "execution_count": 41,
     "metadata": {},
     "output_type": "execute_result"
    }
   ],
   "source": [
    "TorNKey"
   ]
  },
  {
   "cell_type": "code",
   "execution_count": 42,
   "metadata": {},
   "outputs": [],
   "source": [
    "nextL=mapcoding(n)\n",
    "refvec1=codinglist[n]\n",
    "refvec2=codinglist[n+1]\n",
    "TorNMinus2updated={}\n",
    "for k in TorNMinus2Key :\n",
    "          s1=ensclique(k,refvec1)\n",
    "          s2=set([])\n",
    "          r=0\n",
    "          for e in s1 :\n",
    "                   e1=nextL[refvec1.index(e)]\n",
    "                   s2.add(e1)\n",
    "                   r=r|e1\n",
    "          k2=symboliclique(s2,refvec2)\n",
    "          TorNMinus2updated[k2]=r"
   ]
  },
  {
   "cell_type": "code",
   "execution_count": 43,
   "metadata": {},
   "outputs": [],
   "source": [
    "nextL=mapcoding(n)\n",
    "refvec1=codinglist[n]\n",
    "refvec2=codinglist[n+1]\n",
    "TorNMinus1updated={}\n",
    "for k in TorNMinus1Key :\n",
    "          s1=ensclique(k,refvec1)\n",
    "          s2=set([])\n",
    "          r=0\n",
    "          for e in s1 :\n",
    "                   e1=nextL[refvec1.index(e)]\n",
    "                   s2.add(e1)\n",
    "                   r=r|e1\n",
    "          k2=symboliclique(s2,refvec2)\n",
    "          TorNMinus1updated[k2]=r"
   ]
  },
  {
   "cell_type": "code",
   "execution_count": 44,
   "metadata": {},
   "outputs": [
    {
     "data": {
      "text/plain": [
       "{16842880: 4612523,\n",
       " 16908544: 9056491,\n",
       " 8470528: 13118823,\n",
       " 8454656: 13645163,\n",
       " 8454272: 12871115,\n",
       " 8405056: 9080173,\n",
       " 8405120: 9194733,\n",
       " 4720640: 12864935,\n",
       " 2113664: 2906541,\n",
       " 16779520: 9068909,\n",
       " 4196608: 13134285,\n",
       " 4196864: 13654445,\n",
       " 526592: 9201006,\n",
       " 264704: 9591150,\n",
       " 147520: 9083310,\n",
       " 2625536: 2504103,\n",
       " 8393216: 9581805,\n",
       " 2359424: 2513355,\n",
       " 16850944: 4600167,\n",
       " 4202560: 4626893,\n",
       " 4718656: 4623787,\n",
       " 4718848: 4992235,\n",
       " 2621696: 2897259,\n",
       " 82048: 5007790}"
      ]
     },
     "execution_count": 44,
     "metadata": {},
     "output_type": "execute_result"
    }
   ],
   "source": [
    "TorNMinus1updated"
   ]
  },
  {
   "cell_type": "code",
   "execution_count": 45,
   "metadata": {},
   "outputs": [
    {
     "data": {
      "text/plain": [
       "dict_keys([16842880, 16908544, 8470528, 8454656, 8454272, 8405056, 8405120, 4720640, 2113664, 16779520, 4196608, 4196864, 526592, 264704, 147520, 2625536, 8393216, 2359424, 16850944, 4202560, 4718656, 4718848, 2621696, 82048])"
      ]
     },
     "execution_count": 45,
     "metadata": {},
     "output_type": "execute_result"
    }
   ],
   "source": [
    "TorNMinus1updated.keys()"
   ]
  },
  {
   "cell_type": "code",
   "execution_count": 46,
   "metadata": {},
   "outputs": [],
   "source": [
    "nextL=mapcoding(n)\n",
    "refvec1=codinglist[n]\n",
    "refvec2=codinglist[n+1]\n",
    "TorNupdated={}\n",
    "for k in TorNKey :\n",
    "          s1=ensclique(k,refvec1)\n",
    "          s2=set([])\n",
    "          r=0\n",
    "          for e in s1 :\n",
    "                   e1=nextL[refvec1.index(e)]\n",
    "                   s2.add(e1)\n",
    "                   r=r|e1\n",
    "          k2=symboliclique(s2,refvec2)\n",
    "          TorNupdated[k2]=r"
   ]
  },
  {
   "cell_type": "code",
   "execution_count": 47,
   "metadata": {},
   "outputs": [
    {
     "data": {
      "text/plain": [
       "{8470656: 13397487, 4720896: 13397487}"
      ]
     },
     "execution_count": 47,
     "metadata": {},
     "output_type": "execute_result"
    }
   ],
   "source": [
    "TorNupdated"
   ]
  },
  {
   "cell_type": "code",
   "execution_count": 48,
   "metadata": {},
   "outputs": [],
   "source": [
    "sol=[]\n",
    "sol3=[]"
   ]
  },
  {
   "cell_type": "code",
   "execution_count": 49,
   "metadata": {},
   "outputs": [
    {
     "name": "stdout",
     "output_type": "stream",
     "text": [
      "0.002997\n"
     ]
    }
   ],
   "source": [
    "start = datetime.now()\n",
    "sol2=[]\n",
    "avoid4={}\n",
    "for e in Minit :\n",
    "    if e !=Minit[len(Minit)-1]:\n",
    "        for k,v in TorNupdated.items() :\n",
    "               b= e & v\n",
    "               if  b == 0 :\n",
    "                             s1=ensclique(k,refvec2)\n",
    "                             s1.add(e)\n",
    "                             sol2.append(symboliclique(s1,refvec2))\n",
    "                             if k in avoid4.keys() :\n",
    "                                    avoid4[k].union(s1)\n",
    "                             else:\n",
    "                                     avoid4[k]=s1\n",
    "               else:\n",
    "                       for k1,v1 in Tor.items() :\n",
    "                            s2=ensclique(k1,refvec2)\n",
    "                            if e in s2:\n",
    "                                 s1=ensclique(k,refvec2)\n",
    "                                 for d in s1 :\n",
    "                                         if d & v1 ==0 :\n",
    "                                               s2.add(d)\n",
    "                                 c=symboliclique(s2,refvec2)\n",
    "                                 if len(s2)==n:  \n",
    "                                              if c not in sol3 :\n",
    "                                                        sol3.append(c)\n",
    "                                 else:\n",
    "                    \n",
    "                                                 if len(s2)==n-1:\n",
    "                                                         if c not in sol:\n",
    "                                                                sol.append(c)\n",
    "    else:\n",
    "        \n",
    "               e=Minit[len(Minit)-1]\n",
    "               for k,v in TorNupdated.items() :\n",
    "                    b= e & v\n",
    "                    if  b == 0 :\n",
    "                             s1=ensclique(k,refvec2)\n",
    "                             s1.add(e)\n",
    "                             sol2.append(symboliclique(s1,refvec2))\n",
    "                             if k in avoid4.keys() :\n",
    "                                    avoid4[k].union(s1)\n",
    "                             else:\n",
    "                                     avoid4[k]=s1\n",
    "                    else:\n",
    "                        \n",
    "                                s1=ensclique(k,refvec2)\n",
    "                                s=set([e])\n",
    "                                for  d in s1:\n",
    "                                    if d&e==0:\n",
    "                                         s.add(d)\n",
    "                                \n",
    "                                c=symboliclique(s2,refvec2)\n",
    "                                if len(s)==n:  \n",
    "                                              if c not in sol3 :\n",
    "                                                        sol3.append(c)\n",
    "                                else:\n",
    "                    \n",
    "                                                 if len(s)==n-1:\n",
    "                                                         if c not in sol:\n",
    "                                                                sol.append(c)\n",
    "                        \n",
    "                        \n",
    "                        \n",
    "                        \n",
    "end = datetime.now()\n",
    "diff = end - start\n",
    "print(diff.total_seconds())"
   ]
  },
  {
   "cell_type": "code",
   "execution_count": 50,
   "metadata": {},
   "outputs": [
    {
     "name": "stdout",
     "output_type": "stream",
     "text": [
      "{557200, 8705, 263202, 8405252}\n",
      "{327952, 8389697, 2114050, 526372}\n",
      "{532552, 4196481, 2114050, 327952}\n",
      "{278664, 8389697, 8240, 4227588}\n",
      "{8454664, 4202754, 1065040, 526372}\n",
      "{8454664, 4196481, 263202, 1065040}\n"
     ]
    }
   ],
   "source": [
    "for e in sol3 :\n",
    "    print(ensclique(e,refvec2))"
   ]
  },
  {
   "cell_type": "code",
   "execution_count": 51,
   "metadata": {},
   "outputs": [
    {
     "name": "stdout",
     "output_type": "stream",
     "text": [
      "{327952, 8705, 526372}\n",
      "{1065040, 8705, 526372}\n",
      "{1065040, 8705, 263202}\n",
      "{557200, 8389697, 2114050}\n",
      "{8240, 8389697, 2114050}\n",
      "{8240, 4196481, 2114050}\n",
      "{327952, 8389697, 4227588}\n",
      "{532552, 327952, 4227588}\n",
      "{1065040, 263202, 4227588}\n",
      "{8454664, 4202754, 557200}\n",
      "{8454664, 263202, 557200}\n",
      "{8454664, 4196481, 8240}\n"
     ]
    }
   ],
   "source": [
    "for e in sol :\n",
    "    print(ensclique(e,refvec2))"
   ]
  },
  {
   "cell_type": "code",
   "execution_count": 52,
   "metadata": {},
   "outputs": [
    {
     "data": {
      "text/plain": [
       "[8470657, 4720897]"
      ]
     },
     "execution_count": 52,
     "metadata": {},
     "output_type": "execute_result"
    }
   ],
   "source": [
    "sol2"
   ]
  },
  {
   "cell_type": "code",
   "execution_count": 53,
   "metadata": {},
   "outputs": [
    {
     "data": {
      "text/plain": [
       "[1064962,\n",
       " 1064968,\n",
       " 1572872,\n",
       " 8421380,\n",
       " 8421392,\n",
       " 4227088,\n",
       " 8389634,\n",
       " 1282,\n",
       " 525320,\n",
       " 65572,\n",
       " 524324,\n",
       " 4194352]"
      ]
     },
     "execution_count": 53,
     "metadata": {},
     "output_type": "execute_result"
    }
   ],
   "source": [
    "sol"
   ]
  },
  {
   "cell_type": "code",
   "execution_count": 54,
   "metadata": {},
   "outputs": [
    {
     "data": {
      "text/plain": [
       "[1574916, 8437762, 4227330, 8389776, 81960, 4718632]"
      ]
     },
     "execution_count": 54,
     "metadata": {},
     "output_type": "execute_result"
    }
   ],
   "source": [
    "sol3"
   ]
  },
  {
   "cell_type": "code",
   "execution_count": 55,
   "metadata": {},
   "outputs": [
    {
     "name": "stdout",
     "output_type": "stream",
     "text": [
      "4\n"
     ]
    }
   ],
   "source": [
    "print(n)"
   ]
  },
  {
   "cell_type": "code",
   "execution_count": 56,
   "metadata": {},
   "outputs": [
    {
     "data": {
      "text/plain": [
       "{8470656: {131600, 278664, 526372, 4202754, 8389697},\n",
       " 4720896: {131600, 263202, 532552, 4196481, 8405252}}"
      ]
     },
     "execution_count": 56,
     "metadata": {},
     "output_type": "execute_result"
    }
   ],
   "source": [
    "avoid4"
   ]
  },
  {
   "cell_type": "code",
   "execution_count": 57,
   "metadata": {},
   "outputs": [
    {
     "data": {
      "text/plain": [
       "[1064962,\n",
       " 1064968,\n",
       " 1572872,\n",
       " 8421380,\n",
       " 8421392,\n",
       " 4227088,\n",
       " 8389634,\n",
       " 1282,\n",
       " 525320,\n",
       " 65572,\n",
       " 524324,\n",
       " 4194352]"
      ]
     },
     "execution_count": 57,
     "metadata": {},
     "output_type": "execute_result"
    }
   ],
   "source": [
    "sol"
   ]
  },
  {
   "cell_type": "code",
   "execution_count": 58,
   "metadata": {},
   "outputs": [
    {
     "name": "stdout",
     "output_type": "stream",
     "text": [
      "{557200, 8705, 263202, 8405252}\n",
      "{327952, 8389697, 2114050, 526372}\n",
      "{532552, 4196481, 2114050, 327952}\n",
      "{278664, 8389697, 8240, 4227588}\n",
      "{8454664, 4202754, 1065040, 526372}\n",
      "{8454664, 4196481, 263202, 1065040}\n"
     ]
    }
   ],
   "source": [
    "for e in sol3 :\n",
    "    print(ensclique(e,refvec2))"
   ]
  },
  {
   "cell_type": "code",
   "execution_count": 59,
   "metadata": {},
   "outputs": [
    {
     "data": {
      "text/plain": [
       "[1574916, 8437762, 4227330, 8389776, 81960, 4718632]"
      ]
     },
     "execution_count": 59,
     "metadata": {},
     "output_type": "execute_result"
    }
   ],
   "source": [
    "sol3"
   ]
  },
  {
   "cell_type": "code",
   "execution_count": 60,
   "metadata": {},
   "outputs": [
    {
     "data": {
      "text/plain": [
       "[8470657, 4720897]"
      ]
     },
     "execution_count": 60,
     "metadata": {},
     "output_type": "execute_result"
    }
   ],
   "source": [
    "sol2"
   ]
  },
  {
   "cell_type": "code",
   "execution_count": 61,
   "metadata": {},
   "outputs": [
    {
     "name": "stdout",
     "output_type": "stream",
     "text": [
      "0.016988\n"
     ]
    }
   ],
   "source": [
    "start = datetime.now()\n",
    "sol1=[]\n",
    "avoid={}\n",
    "for k1,v1 in Tor.items() :\n",
    "    for k,v in TorNMinus1updated.items() :\n",
    "          if v1 & v == 0 :\n",
    "                s1=ensclique(k,refvec2)\n",
    "                #print(\"s1\",s1)\n",
    "                s2=ensclique(k1,refvec2)\n",
    "                #print(\"s2\",s2)\n",
    "                for d in s2 :\n",
    "                    s1.add(d)\n",
    "                #print(\"s1\",s1)\n",
    "                c=symboliclique(s1,refvec2)\n",
    "                #print(countSetBits(c))\n",
    "                if len(s1)==n+1:\n",
    "                          sol1.append(c)\n",
    "                if k in avoid.keys() :\n",
    "                     avoid[k].union(s2)\n",
    "                else:\n",
    "                    avoid[k]=s2\n",
    "          else:\n",
    "            \n",
    "                       s1=ensclique(k,refvec2)\n",
    "                       s2=ensclique(k1,refvec2)\n",
    "                       for x in s2 :\n",
    "                            s3=set([x])\n",
    "                            for e in s1 :\n",
    "                               if x & e== 0 :\n",
    "                                   s3.add(e)\n",
    "                       if len(s3)==n:\n",
    "                             c=symboliclique(s3,refvec2)\n",
    "                             if c not in sol3:\n",
    "                                       sol3.append(c) \n",
    "                       else:\n",
    "                                 \n",
    "                                 if len(s3)==n-1:\n",
    "                                          c=symboliclique(s3,refvec2)\n",
    "                                          if c not in sol:\n",
    "                                              sol.append(c) \n",
    "          \n",
    "            \n",
    "end = datetime.now()\n",
    "diff = end - start\n",
    "print(diff.total_seconds())           "
   ]
  },
  {
   "cell_type": "code",
   "execution_count": 62,
   "metadata": {},
   "outputs": [
    {
     "name": "stdout",
     "output_type": "stream",
     "text": [
      "{557200, 8705, 263202, 8405252}\n",
      "{327952, 8389697, 2114050, 526372}\n",
      "{532552, 4196481, 2114050, 327952}\n",
      "{278664, 8389697, 8240, 4227588}\n",
      "{8454664, 4202754, 1065040, 526372}\n",
      "{8454664, 4196481, 263202, 1065040}\n",
      "{1052712, 8705, 133186, 8405252}\n",
      "{164104, 8705, 8392834, 526372}\n",
      "{164104, 8389697, 2114050, 526372}\n",
      "{164104, 4196481, 2114050, 266308}\n",
      "{1052712, 8389697, 2114050, 139396}\n",
      "{278664, 2101505, 133186, 4227588}\n",
      "{532552, 2101505, 263202, 4227588}\n",
      "{1052712, 8389697, 4202754, 557200}\n",
      "{1052712, 133186, 8405252, 557200}\n",
      "{532552, 131105, 8392834, 4227588}\n",
      "{164104, 8392834, 1065040, 526372}\n",
      "{164104, 4196481, 263202, 1065040}\n",
      "{278664, 2101505, 133186, 8240}\n",
      "{164104, 4196481, 8240, 266308}\n"
     ]
    }
   ],
   "source": [
    "for e in sol3 :\n",
    "    print(ensclique(e,refvec2))"
   ]
  },
  {
   "cell_type": "code",
   "execution_count": 63,
   "metadata": {},
   "outputs": [
    {
     "name": "stdout",
     "output_type": "stream",
     "text": [
      "Wall time: 3.99 ms\n"
     ]
    }
   ],
   "source": [
    "%%time\n",
    "for e in Minit :\n",
    "    for k,v in TorNMinus1updated.items()  :\n",
    "          b= e & v\n",
    "          if  b == 0 :\n",
    "                s1=ensclique(k,refvec2)\n",
    "                s1.add(e)\n",
    "                c=symboliclique(s1,refvec2)\n",
    "                if len(s1)==n:  \n",
    "                          if c not in sol3 :\n",
    "                               sol3.append(c)\n",
    "                else:\n",
    "                    \n",
    "                          if len(s1)==n-1:\n",
    "                                if c not in sol:\n",
    "                                     sol.append(c)\n",
    "                \n",
    "          else :\n",
    "                   if k not in sol:\n",
    "                         if k not in avoid.keys():\n",
    "                               sol.append(c)"
   ]
  },
  {
   "cell_type": "markdown",
   "metadata": {},
   "source": [
    "  bo=True \n",
    "                    for y,r in avoid4.items():\n",
    "                              if c & y== c :\n",
    "                                  bo=False\n",
    "                    if bo :            "
   ]
  },
  {
   "cell_type": "code",
   "execution_count": 64,
   "metadata": {},
   "outputs": [],
   "source": [
    "#avoid"
   ]
  },
  {
   "cell_type": "code",
   "execution_count": 65,
   "metadata": {},
   "outputs": [
    {
     "data": {
      "text/plain": [
       "[8425986, 1313284, 16909570, 16850980, 1196104, 2625576, 4235344, 2360464]"
      ]
     },
     "execution_count": 65,
     "metadata": {},
     "output_type": "execute_result"
    }
   ],
   "source": [
    "sol1"
   ]
  },
  {
   "cell_type": "code",
   "execution_count": 66,
   "metadata": {},
   "outputs": [
    {
     "name": "stdout",
     "output_type": "stream",
     "text": [
      "{557200, 8705, 263202, 8405252}\n",
      "{327952, 8389697, 2114050, 526372}\n",
      "{532552, 4196481, 2114050, 327952}\n",
      "{278664, 8389697, 8240, 4227588}\n",
      "{8454664, 4202754, 1065040, 526372}\n",
      "{8454664, 4196481, 263202, 1065040}\n",
      "{1052712, 8705, 133186, 8405252}\n",
      "{164104, 8705, 8392834, 526372}\n",
      "{164104, 8389697, 2114050, 526372}\n",
      "{164104, 4196481, 2114050, 266308}\n",
      "{1052712, 8389697, 2114050, 139396}\n",
      "{278664, 2101505, 133186, 4227588}\n",
      "{532552, 2101505, 263202, 4227588}\n",
      "{1052712, 8389697, 4202754, 557200}\n",
      "{1052712, 133186, 8405252, 557200}\n",
      "{532552, 131105, 8392834, 4227588}\n",
      "{164104, 8392834, 1065040, 526372}\n",
      "{164104, 4196481, 263202, 1065040}\n",
      "{278664, 2101505, 133186, 8240}\n",
      "{164104, 4196481, 8240, 266308}\n",
      "{8454664, 2101505, 263202, 139396}\n",
      "{8454664, 131105, 4202754, 266308}\n",
      "{1065040, 2101505, 263202, 139396}\n",
      "{557200, 131105, 4202754, 266308}\n",
      "{532552, 131105, 8392834, 327952}\n",
      "{1052712, 8389697, 139396, 327952}\n",
      "{131600, 8389697, 4202754, 526372}\n",
      "{1052712, 8389697, 4202754, 131600}\n",
      "{278664, 8389697, 4202754, 131600}\n",
      "{278664, 8389697, 526372, 131600}\n",
      "{131600, 4196481, 263202, 8405252}\n",
      "{278664, 2101505, 526372, 131600}\n",
      "{532552, 4196481, 8405252, 131600}\n",
      "{1052712, 4196481, 8405252, 131600}\n",
      "{532552, 131600, 263202, 8405252}\n",
      "{532552, 4196481, 263202, 131600}\n",
      "{532552, 2101505, 263202, 131600}\n",
      "{278664, 131600, 4202754, 526372}\n"
     ]
    }
   ],
   "source": [
    "for e in sol3 :\n",
    "    print(ensclique(e,refvec2))"
   ]
  },
  {
   "cell_type": "code",
   "execution_count": 67,
   "metadata": {},
   "outputs": [
    {
     "data": {
      "text/plain": [
       "38"
      ]
     },
     "execution_count": 67,
     "metadata": {},
     "output_type": "execute_result"
    }
   ],
   "source": [
    "len(sol3)"
   ]
  },
  {
   "cell_type": "code",
   "execution_count": 68,
   "metadata": {},
   "outputs": [
    {
     "name": "stdout",
     "output_type": "stream",
     "text": [
      "Wall time: 15 ms\n"
     ]
    }
   ],
   "source": [
    "%%time\n",
    "#avoid={}\n",
    "for k1,v1 in Tor.items() :\n",
    "    for k,v in TorNMinus2updated.items() :\n",
    "          if v1 & v == 0 :\n",
    "                s1=ensclique(k,refvec2)\n",
    "                #print(\"s1\",s1)\n",
    "                s2=ensclique(k1,refvec2)\n",
    "                #print(\"s2\",s2)\n",
    "                for d in s2 :\n",
    "                    s1.add(d)\n",
    "                #print(\"s1\",s1)\n",
    "                c=symboliclique(s1,refvec2)\n",
    "                if len(s1)==n :\n",
    "                    if c not in sol3 :\n",
    "                        #boo=True\n",
    "                        #for t,u in avoid.items() :\n",
    "                            #if c & t ==c :\n",
    "                                #boo=False\n",
    "                            #if boo :\n",
    "                                  sol3.append(c)\n",
    "                        \n",
    "          else :\n",
    "                        s1=ensclique(k,refvec2)\n",
    "                        #print(\"s1\",s1)\n",
    "                        s2=ensclique(k1,refvec2)\n",
    "                        for x in s1 :\n",
    "                            s3=set([x])\n",
    "                            for e in s2:\n",
    "                                if x & e== 0 :\n",
    "                                    s3.add(e)\n",
    "                            \n",
    "                            if len(s3)==n-1:\n",
    "                                          c=symboliclique(s3,refvec2)\n",
    "                                          if c not in sol:\n",
    "                                                 sol.append(c)"
   ]
  },
  {
   "cell_type": "code",
   "execution_count": 69,
   "metadata": {},
   "outputs": [
    {
     "data": {
      "text/plain": [
       "[1064962,\n",
       " 1064968,\n",
       " 1572872,\n",
       " 8421380,\n",
       " 8421392,\n",
       " 4227088,\n",
       " 8389634,\n",
       " 1282,\n",
       " 525320,\n",
       " 65572,\n",
       " 524324,\n",
       " 4194352,\n",
       " 1065024,\n",
       " 1065088,\n",
       " 1574912,\n",
       " 1051136,\n",
       " 1310848,\n",
       " 1056832,\n",
       " 1572928,\n",
       " 16810240,\n",
       " 8437760,\n",
       " 8421888,\n",
       " 4227328,\n",
       " 4227584,\n",
       " 49216,\n",
       " 16818176,\n",
       " 4227136,\n",
       " 16778368,\n",
       " 8390144,\n",
       " 8389760,\n",
       " 2098304,\n",
       " 16778496,\n",
       " 525568,\n",
       " 263680,\n",
       " 2622464,\n",
       " 16842756,\n",
       " 8454148,\n",
       " 526340,\n",
       " 16779268,\n",
       " 2564,\n",
       " 2621444,\n",
       " 8389124,\n",
       " 2359300,\n",
       " 16842760,\n",
       " 16908296,\n",
       " 81928,\n",
       " 16456,\n",
       " 4718600,\n",
       " 2113544,\n",
       " 4194376,\n",
       " 2621448,\n",
       " 8388752,\n",
       " 8388688,\n",
       " 4196368,\n",
       " 2097296,\n",
       " 264208,\n",
       " 131152,\n",
       " 4194384,\n",
       " 4194384,\n",
       " 4194384,\n",
       " 4194384,\n",
       " 4194384,\n",
       " 4194384,\n",
       " 4194384,\n",
       " 4194384,\n",
       " 4194384,\n",
       " 4194384,\n",
       " 4194384,\n",
       " 4194384,\n",
       " 4194384,\n",
       " 1196096,\n",
       " 1196096,\n",
       " 1196096,\n",
       " 1196096,\n",
       " 1196096,\n",
       " 1196096,\n",
       " 1196096,\n",
       " 1196096,\n",
       " 8437824,\n",
       " 8437824,\n",
       " 8437824,\n",
       " 8437824,\n",
       " 8437824,\n",
       " 8437824,\n",
       " 8437824,\n",
       " 4235328,\n",
       " 4235328,\n",
       " 4235328,\n",
       " 4235328,\n",
       " 4235328,\n",
       " 16909568,\n",
       " 16909568,\n",
       " 16909568,\n",
       " 16909568,\n",
       " 16909568,\n",
       " 16909568,\n",
       " 16909568,\n",
       " 16909568,\n",
       " 16909568,\n",
       " 16909568,\n",
       " 16909568,\n",
       " 2360448,\n",
       " 2360448,\n",
       " 2622720,\n",
       " 2622720,\n",
       " 2622720,\n",
       " 2622720,\n",
       " 2622720,\n",
       " 2622720,\n",
       " 2622720,\n",
       " 2622720,\n",
       " 2622720,\n",
       " 2622720,\n",
       " 2622720,\n",
       " 2622720,\n",
       " 2622720,\n",
       " 16850976,\n",
       " 16850976,\n",
       " 16850976,\n",
       " 16850976,\n",
       " 16850976,\n",
       " 16850976,\n",
       " 16850976,\n",
       " 16850976,\n",
       " 16850976,\n",
       " 16850976,\n",
       " 16850976,\n",
       " 16850976,\n",
       " 16850976,\n",
       " 16850976,\n",
       " 16850976,\n",
       " 16850976,\n",
       " 4202576,\n",
       " 4202576,\n",
       " 4202576,\n",
       " 4202576,\n",
       " 4202576,\n",
       " 4202576,\n",
       " 4202576,\n",
       " 4202576,\n",
       " 4202576,\n",
       " 4202576,\n",
       " 4202576,\n",
       " 4202576,\n",
       " 4202576,\n",
       " 4202576,\n",
       " 4202576,\n",
       " 4202576,\n",
       " 4718664,\n",
       " 4718664,\n",
       " 4718664,\n",
       " 4718664,\n",
       " 4718664,\n",
       " 8454660,\n",
       " 8454660,\n",
       " 8454660,\n",
       " 8454660,\n",
       " 8454660,\n",
       " 8454660,\n",
       " 8454660,\n",
       " 8454660,\n",
       " 8454660,\n",
       " 16850948,\n",
       " 16850948,\n",
       " 16850948,\n",
       " 16850948,\n",
       " 16850948,\n",
       " 16908546,\n",
       " 16908546,\n",
       " 16908546,\n",
       " 16908546,\n",
       " 16908546,\n",
       " 16908546,\n",
       " 16908546,\n",
       " 16908546,\n",
       " 16908546,\n",
       " 16908546,\n",
       " 16908546,\n",
       " 8393218,\n",
       " 8393218,\n",
       " 8393218,\n",
       " 8393218,\n",
       " 8393218,\n",
       " 8454273,\n",
       " 2113665,\n",
       " 526593,\n",
       " 1179650,\n",
       " 1049090,\n",
       " 1310722,\n",
       " 16809986,\n",
       " 8421378,\n",
       " 4227074,\n",
       " 33026,\n",
       " 49154,\n",
       " 36866,\n",
       " 33282,\n",
       " 1049092,\n",
       " 1050628,\n",
       " 1310724,\n",
       " 1572868,\n",
       " 1056772,\n",
       " 16809988,\n",
       " 33284,\n",
       " 40964,\n",
       " 16778242,\n",
       " 132098,\n",
       " 263170,\n",
       " 1538,\n",
       " 16777252,\n",
       " 2097188,\n",
       " 262180,\n",
       " 8228,\n",
       " 1179656,\n",
       " 1048648,\n",
       " 16778248,\n",
       " 2098184,\n",
       " 132104,\n",
       " 16777256,\n",
       " 65576,\n",
       " 16424,\n",
       " 4194344,\n",
       " 2097192,\n",
       " 4136,\n",
       " 524328,\n",
       " 32848,\n",
       " 40976,\n",
       " 132112,\n",
       " 1168,\n",
       " 8389648,\n",
       " 2098192,\n",
       " 263184,\n",
       " 2097200,\n",
       " 262192,\n",
       " 8240]"
      ]
     },
     "execution_count": 69,
     "metadata": {},
     "output_type": "execute_result"
    }
   ],
   "source": [
    "sol"
   ]
  },
  {
   "cell_type": "code",
   "execution_count": null,
   "metadata": {},
   "outputs": [],
   "source": []
  },
  {
   "cell_type": "code",
   "execution_count": 70,
   "metadata": {},
   "outputs": [
    {
     "data": {
      "text/plain": [
       "[1574916,\n",
       " 8437762,\n",
       " 4227330,\n",
       " 8389776,\n",
       " 81960,\n",
       " 4718632,\n",
       " 1313280,\n",
       " 1196096,\n",
       " 8437824,\n",
       " 4235328,\n",
       " 8425984,\n",
       " 2360448,\n",
       " 2622720,\n",
       " 8454660,\n",
       " 264708,\n",
       " 16909568,\n",
       " 147528,\n",
       " 4718664,\n",
       " 2359440,\n",
       " 4202576,\n",
       " 2625568,\n",
       " 16850976,\n",
       " 2625544,\n",
       " 16850948,\n",
       " 16908546,\n",
       " 8393218,\n",
       " 8470529,\n",
       " 8454657,\n",
       " 8454273,\n",
       " 8405121,\n",
       " 4720641,\n",
       " 2113665,\n",
       " 4196609,\n",
       " 4196865,\n",
       " 526593,\n",
       " 4718849,\n",
       " 2621697,\n",
       " 82049,\n",
       " 1196034,\n",
       " 1311234,\n",
       " 16810242,\n",
       " 8421890,\n",
       " 8425474,\n",
       " 4227586,\n",
       " 37378,\n",
       " 1311236,\n",
       " 1312772,\n",
       " 1051140,\n",
       " 8421892,\n",
       " 16818180,\n",
       " 16909314,\n",
       " 16778498,\n",
       " 8390146,\n",
       " 132354,\n",
       " 263682,\n",
       " 16842788,\n",
       " 2359332,\n",
       " 16785444,\n",
       " 2621476,\n",
       " 73764,\n",
       " 1196040,\n",
       " 1179720,\n",
       " 1065032,\n",
       " 1572936,\n",
       " 16909320,\n",
       " 2622472,\n",
       " 16842792,\n",
       " 2113576,\n",
       " 2101288,\n",
       " 528424,\n",
       " 2621480,\n",
       " 4227152,\n",
       " 8421456,\n",
       " 4235280,\n",
       " 41040,\n",
       " 2360336,\n",
       " 263312,\n",
       " 2098320,\n",
       " 2359344,\n",
       " 4202544]"
      ]
     },
     "execution_count": 70,
     "metadata": {},
     "output_type": "execute_result"
    }
   ],
   "source": [
    "sol3"
   ]
  },
  {
   "cell_type": "code",
   "execution_count": 71,
   "metadata": {},
   "outputs": [
    {
     "data": {
      "text/plain": [
       "80"
      ]
     },
     "execution_count": 71,
     "metadata": {},
     "output_type": "execute_result"
    }
   ],
   "source": [
    "len(sol3)"
   ]
  },
  {
   "cell_type": "code",
   "execution_count": 72,
   "metadata": {},
   "outputs": [],
   "source": [
    "TorNKey=sol1+sol2"
   ]
  },
  {
   "cell_type": "code",
   "execution_count": 73,
   "metadata": {},
   "outputs": [
    {
     "data": {
      "text/plain": [
       "10"
      ]
     },
     "execution_count": 73,
     "metadata": {},
     "output_type": "execute_result"
    }
   ],
   "source": [
    "len(TorNKey)"
   ]
  },
  {
   "cell_type": "code",
   "execution_count": 74,
   "metadata": {},
   "outputs": [
    {
     "name": "stdout",
     "output_type": "stream",
     "text": [
      "{8389697, 2114050, 139396, 1052712, 327952}\n",
      "{8705, 133186, 8405252, 1052712, 557200}\n",
      "{131105, 8392834, 4227588, 532552, 327952}\n",
      "{131105, 4202754, 266308, 8454664, 557200}\n",
      "{8705, 8392834, 526372, 164104, 1065040}\n",
      "{2101505, 263202, 139396, 8454664, 1065040}\n",
      "{4196481, 2114050, 266308, 164104, 8240}\n",
      "{2101505, 133186, 4227588, 278664, 8240}\n",
      "{8389697, 4202754, 526372, 278664, 131600}\n",
      "{4196481, 263202, 8405252, 532552, 131600}\n"
     ]
    }
   ],
   "source": [
    "for e in TorNKey :\n",
    "    print(ensclique(e,refvec2))"
   ]
  },
  {
   "cell_type": "code",
   "execution_count": 75,
   "metadata": {},
   "outputs": [
    {
     "data": {
      "text/plain": [
       "10"
      ]
     },
     "execution_count": 75,
     "metadata": {},
     "output_type": "execute_result"
    }
   ],
   "source": [
    "len(set(TorNKey))"
   ]
  },
  {
   "cell_type": "code",
   "execution_count": 76,
   "metadata": {},
   "outputs": [
    {
     "data": {
      "text/plain": [
       "10"
      ]
     },
     "execution_count": 76,
     "metadata": {},
     "output_type": "execute_result"
    }
   ],
   "source": [
    "len(TorNKey)"
   ]
  },
  {
   "cell_type": "code",
   "execution_count": 77,
   "metadata": {},
   "outputs": [],
   "source": [
    "import pickle\n",
    "\n",
    "# define a list of places\n",
    "pList = TorNKey\n",
    "\n",
    "with open('TorNKey.data', 'wb') as filehandle:\n",
    "    # store the data as binary data stream\n",
    "    pickle.dump(pList, filehandle)"
   ]
  },
  {
   "cell_type": "code",
   "execution_count": 78,
   "metadata": {},
   "outputs": [],
   "source": [
    "\n",
    "#sol=[]\n",
    "#sol3=[]\n",
    "for k1,v1 in Tor.items() :\n",
    "    for k,v in TorNMinus2updated.items() :\n",
    "          if v1 & v == 0 :\n",
    "                s1=ensclique(k,refvec2)\n",
    "                s2=ensclique(k1,refvec2)\n",
    "                for d in s2 :\n",
    "                    s1.add(d)\n",
    "                c=symboliclique(s1,refvec2)\n",
    "                #print(len(s1))\n",
    "                if len(s1)==n:\n",
    "                     if c not in sol3:\n",
    "                         sol3.append(c)\n",
    "                else:\n",
    "                    \n",
    "                      if len(s1)==n-1:\n",
    "                            if c not in sol:\n",
    "                                  sol.append(c)\n",
    "          "
   ]
  },
  {
   "cell_type": "code",
   "execution_count": 79,
   "metadata": {},
   "outputs": [],
   "source": [
    "#sol=[]\n",
    "for e in Minit :\n",
    "     for k,v in TorNMinus1updated.items() :\n",
    "            #if k in avoid.keys():\n",
    "                  #if e not in avoid[k] :\n",
    "                        if e & v == 0 :\n",
    "                             s1=ensclique(k,refvec2)\n",
    "                             s1.add(e)\n",
    "                             c=symboliclique(s1,refvec2)\n",
    "                             if c not in sol3 :\n",
    "                                    sol3.append(c)\n",
    "                        else:\n",
    "                            \n",
    "                               s1=ensclique(k,refvec2)\n",
    "                               for d in s1 :\n",
    "                                   s=set([e])\n",
    "                                   if e&d==0:\n",
    "                                      s.add(d)\n",
    "                               if len(s)==n-1:\n",
    "                                   c=symboliclique(s,refvec2)\n",
    "                                   if c not in sol :\n",
    "                                         sol.append(c)\n",
    "                            \n",
    "            #else:\n",
    "                        #if e & v == 0 :\n",
    "                               #s1=ensclique(k,refvec2)\n",
    "                               #s1.add(e)\n",
    "                               #c=symboliclique(s1,refvec2)\n",
    "                               #if c not in sol :\n",
    "                                      #sol.append(c)"
   ]
  },
  {
   "cell_type": "code",
   "execution_count": 80,
   "metadata": {},
   "outputs": [
    {
     "data": {
      "text/plain": [
       "234"
      ]
     },
     "execution_count": 80,
     "metadata": {},
     "output_type": "execute_result"
    }
   ],
   "source": [
    "len(sol)"
   ]
  },
  {
   "cell_type": "code",
   "execution_count": 81,
   "metadata": {},
   "outputs": [],
   "source": [
    "s=set(sol)\n",
    "sol=list(s)"
   ]
  },
  {
   "cell_type": "code",
   "execution_count": 82,
   "metadata": {},
   "outputs": [
    {
     "data": {
      "text/plain": [
       "122"
      ]
     },
     "execution_count": 82,
     "metadata": {},
     "output_type": "execute_result"
    }
   ],
   "source": [
    "len(sol)"
   ]
  },
  {
   "cell_type": "code",
   "execution_count": 83,
   "metadata": {},
   "outputs": [],
   "source": [
    "#sol3=[]\n",
    "for e in Minit :\n",
    "     for k,v in TorNMinus2updated.items() :\n",
    "                        if e & v == 0 :\n",
    "                             s1=ensclique(k,refvec2)\n",
    "                             s1.add(e)\n",
    "                             #print(s1)\n",
    "                             c=symboliclique(s1,refvec2)\n",
    "                             if len(s1)==n-1:\n",
    "                                    if c not in sol:\n",
    "                                        sol.append(c)\n",
    "            "
   ]
  },
  {
   "cell_type": "code",
   "execution_count": 84,
   "metadata": {},
   "outputs": [
    {
     "data": {
      "text/plain": [
       "80"
      ]
     },
     "execution_count": 84,
     "metadata": {},
     "output_type": "execute_result"
    }
   ],
   "source": [
    "len(sol3)"
   ]
  },
  {
   "cell_type": "code",
   "execution_count": 85,
   "metadata": {},
   "outputs": [
    {
     "data": {
      "text/plain": [
       "[1574916,\n",
       " 8437762,\n",
       " 4227330,\n",
       " 8389776,\n",
       " 81960,\n",
       " 4718632,\n",
       " 1313280,\n",
       " 1196096,\n",
       " 8437824,\n",
       " 4235328,\n",
       " 8425984,\n",
       " 2360448,\n",
       " 2622720,\n",
       " 8454660,\n",
       " 264708,\n",
       " 16909568,\n",
       " 147528,\n",
       " 4718664,\n",
       " 2359440,\n",
       " 4202576,\n",
       " 2625568,\n",
       " 16850976,\n",
       " 2625544,\n",
       " 16850948,\n",
       " 16908546,\n",
       " 8393218,\n",
       " 8470529,\n",
       " 8454657,\n",
       " 8454273,\n",
       " 8405121,\n",
       " 4720641,\n",
       " 2113665,\n",
       " 4196609,\n",
       " 4196865,\n",
       " 526593,\n",
       " 4718849,\n",
       " 2621697,\n",
       " 82049,\n",
       " 1196034,\n",
       " 1311234,\n",
       " 16810242,\n",
       " 8421890,\n",
       " 8425474,\n",
       " 4227586,\n",
       " 37378,\n",
       " 1311236,\n",
       " 1312772,\n",
       " 1051140,\n",
       " 8421892,\n",
       " 16818180,\n",
       " 16909314,\n",
       " 16778498,\n",
       " 8390146,\n",
       " 132354,\n",
       " 263682,\n",
       " 16842788,\n",
       " 2359332,\n",
       " 16785444,\n",
       " 2621476,\n",
       " 73764,\n",
       " 1196040,\n",
       " 1179720,\n",
       " 1065032,\n",
       " 1572936,\n",
       " 16909320,\n",
       " 2622472,\n",
       " 16842792,\n",
       " 2113576,\n",
       " 2101288,\n",
       " 528424,\n",
       " 2621480,\n",
       " 4227152,\n",
       " 8421456,\n",
       " 4235280,\n",
       " 41040,\n",
       " 2360336,\n",
       " 263312,\n",
       " 2098320,\n",
       " 2359344,\n",
       " 4202544]"
      ]
     },
     "execution_count": 85,
     "metadata": {},
     "output_type": "execute_result"
    }
   ],
   "source": [
    "sol3"
   ]
  },
  {
   "cell_type": "markdown",
   "metadata": {},
   "source": [
    "for fg in TorNMinus1updated.keys() :\n",
    "    if fg not in sol3 :\n",
    "        sol3.append(fg)"
   ]
  },
  {
   "cell_type": "markdown",
   "metadata": {},
   "source": [
    "soll3=[]\n",
    "for c1 in sol :\n",
    "    bbb=True\n",
    "    for c2 in sol3 :\n",
    "        if c1&c2==c1:\n",
    "            bbb=False\n",
    "            \n",
    "    if bbb :\n",
    "        soll3.append(c1)\n",
    "sol3=soll3\n",
    "        "
   ]
  },
  {
   "cell_type": "code",
   "execution_count": null,
   "metadata": {},
   "outputs": [],
   "source": []
  },
  {
   "cell_type": "code",
   "execution_count": 86,
   "metadata": {},
   "outputs": [
    {
     "data": {
      "text/plain": [
       "80"
      ]
     },
     "execution_count": 86,
     "metadata": {},
     "output_type": "execute_result"
    }
   ],
   "source": [
    "len(sol3)"
   ]
  },
  {
   "cell_type": "code",
   "execution_count": 87,
   "metadata": {},
   "outputs": [
    {
     "data": {
      "text/plain": [
       "80"
      ]
     },
     "execution_count": 87,
     "metadata": {},
     "output_type": "execute_result"
    }
   ],
   "source": [
    "len(set(sol3))"
   ]
  },
  {
   "cell_type": "markdown",
   "metadata": {},
   "source": [
    "ub=[]\n",
    "for e in sol3 :\n",
    "    s=ensclique(e,refvec2)\n",
    "    u=set([])\n",
    "    for z in s :\n",
    "        u.add(refvec2.index(z))\n",
    "    print(u)\n",
    "    ub.append(u)\n",
    "        "
   ]
  },
  {
   "cell_type": "code",
   "execution_count": 88,
   "metadata": {},
   "outputs": [
    {
     "data": {
      "text/plain": [
       "{0, 13, 22}"
      ]
     },
     "execution_count": 88,
     "metadata": {},
     "output_type": "execute_result"
    }
   ],
   "source": [
    "{24, 2, 11}\n",
    "{2, 20, 13}\n",
    "{24, 10, 7}\n",
    "{20, 14, 7}\n",
    "{24, 16, 7}\n",
    "{18, 20, 7}\n",
    "{0, 17, 8}\n",
    "{24, 8, 11}\n",
    "{17, 4, 6}\n",
    "{18, 11, 4}\n",
    "{11, 4, 22}\n",
    "{17, 10, 4}\n",
    "{0, 17, 14}\n",
    "{20, 13, 6}\n",
    "{16, 0, 13}\n",
    "{0, 13, 22}"
   ]
  },
  {
   "cell_type": "markdown",
   "metadata": {},
   "source": [
    "ub"
   ]
  },
  {
   "cell_type": "markdown",
   "metadata": {},
   "source": [
    "jj=[{131600, 266308, 4196481},\n",
    " {8240, 4196481, 8405252},\n",
    " {131600, 526372, 8392834},\n",
    " {8240, 4227588, 8392834},\n",
    " {131600, 532552, 8392834},\n",
    " {8240, 164104, 8392834},\n",
    " {131105, 278664, 4202754},\n",
    " {131600, 266308, 4202754},\n",
    " {8705, 133186, 278664},\n",
    " {8705, 164104, 266308},\n",
    " {8705, 266308, 557200},\n",
    " {8705, 278664, 526372},\n",
    " {131105, 278664, 4227588},\n",
    " {8240, 133186, 8405252},\n",
    " {131105, 532552, 8405252},\n",
    " {131105, 557200, 8405252}]"
   ]
  },
  {
   "cell_type": "markdown",
   "metadata": {},
   "source": [
    "sb=[]\n",
    "for e in jj :\n",
    "    u=set([])\n",
    "    for z in e :\n",
    "        u.add(refvec2.index(z))\n",
    "    print(u)\n",
    "    sb.append(u)"
   ]
  },
  {
   "cell_type": "markdown",
   "metadata": {},
   "source": [
    "sb"
   ]
  },
  {
   "cell_type": "markdown",
   "metadata": {},
   "source": [
    "for t in sb :\n",
    "    if t not in ub:\n",
    "        print(t)"
   ]
  },
  {
   "cell_type": "code",
   "execution_count": 89,
   "metadata": {},
   "outputs": [
    {
     "name": "stdout",
     "output_type": "stream",
     "text": [
      "{8705, 263202, 8405252}\n",
      "{1052712, 8705, 8405252}\n",
      "{327952, 8705, 526372}\n",
      "{327952, 8389697, 4227588}\n",
      "{557200, 8389697, 2114050}\n",
      "{557200, 131105, 4202754}\n",
      "{1052712, 8389697, 2114050}\n",
      "{1052712, 4196481, 2114050}\n",
      "{1065040, 8705, 526372}\n",
      "{1065040, 8705, 263202}\n",
      "{1065040, 263202, 4227588}\n",
      "{1065040, 131105, 4202754}\n",
      "{1065040, 131105, 8392834}\n",
      "{557200, 8389697, 4202754}\n",
      "{1065040, 4202754, 526372}\n",
      "{1065040, 4196481, 263202}\n",
      "{8240, 8389697, 2114050}\n",
      "{8240, 4196481, 2114050}\n",
      "{8240, 4196481, 8405252}\n",
      "{8240, 133186, 8405252}\n",
      "{327952, 8705, 8392834}\n",
      "{557200, 2101505, 263202}\n",
      "{557200, 2101505, 133186}\n",
      "{557200, 8705, 133186}\n",
      "{557200, 8705, 263202}\n",
      "{557200, 131105, 2114050}\n",
      "{1052712, 8705, 327952}\n",
      "{1052712, 327952, 2114050}\n",
      "{8454664, 131105, 4202754, 266308}\n",
      "{2101505, 263202, 4227588}\n",
      "{8454664, 4202754, 557200}\n",
      "{8454664, 263202, 557200}\n",
      "{1052712, 8389697, 557200}\n",
      "{1052712, 8389697, 4202754, 557200}\n",
      "{1052712, 8705, 557200}\n",
      "{1065040, 2101505, 526372}\n",
      "{1065040, 2101505, 263202}\n",
      "{1052712, 2114050, 557200}\n",
      "{327952, 131105, 4227588}\n",
      "{327952, 8392834, 4227588}\n",
      "{327952, 133186, 4227588}\n",
      "{1065040, 8705, 8392834}\n",
      "{8454664, 4196481, 8240}\n",
      "{1052712, 8389697, 4227588}\n",
      "{1052712, 133186, 4227588}\n",
      "{8454664, 2101505, 8240}\n",
      "{8454664, 133186, 8240}\n",
      "{8454664, 8240, 266308}\n",
      "{8389697, 2114050, 526372}\n",
      "{1052712, 327952, 4227588}\n",
      "{164104, 8705, 526372}\n",
      "{164104, 8705, 263202}\n",
      "{164104, 8705, 266308}\n",
      "{164104, 2114050, 526372}\n",
      "{164104, 4196481, 2114050}\n",
      "{164104, 8705, 8392834, 526372}\n",
      "{164104, 8389697, 2114050, 526372}\n",
      "{164104, 4196481, 2114050, 266308}\n",
      "{164104, 1065040, 526372}\n",
      "{164104, 4196481, 1065040}\n",
      "{164104, 4196481, 263202, 1065040}\n",
      "{164104, 8705, 1065040}\n",
      "{1065040, 131105, 4227588}\n",
      "{1065040, 2101505, 4227588}\n",
      "{1065040, 8392834, 4227588}\n",
      "{164104, 8389697, 8240}\n",
      "{164104, 8392834, 8240}\n",
      "{164104, 4196481, 8240}\n",
      "{164104, 4196481, 8240, 266308}\n",
      "{164104, 2114050, 8240}\n",
      "{557200, 263202, 8405252}\n",
      "{557200, 131105, 8405252}\n",
      "{557200, 8705, 8405252}\n",
      "{327952, 131105, 2114050}\n",
      "{327952, 8389697, 2114050}\n",
      "{327952, 4196481, 2114050}\n",
      "{1052712, 8405252, 557200}\n",
      "{327952, 2114050, 526372}\n",
      "{8240, 8392834, 4227588}\n",
      "{8240, 8389697, 4227588}\n",
      "{8240, 2101505, 4227588}\n",
      "{8240, 133186, 4227588}\n",
      "{278664, 8705, 526372}\n",
      "{278664, 8705, 133186}\n",
      "{278664, 131105, 4227588}\n",
      "{278664, 8389697, 4227588}\n",
      "{278664, 2101505, 4227588}\n",
      "{278664, 2101505, 133186, 4227588}\n",
      "{278664, 2101505, 526372, 131600}\n",
      "{278664, 8389697, 4202754, 131600}\n",
      "{327952, 2114050, 139396}\n",
      "{278664, 8389697, 8240}\n",
      "{278664, 2101505, 8240}\n",
      "{278664, 8240, 4227588}\n",
      "{1052712, 8389697, 139396, 327952}\n",
      "{8454664, 131105, 557200}\n",
      "{8454664, 2101505, 557200}\n",
      "{8454664, 133186, 557200}\n",
      "{8454664, 131105, 1065040}\n",
      "{8454664, 4202754, 1065040}\n",
      "{8454664, 1065040, 526372}\n",
      "{8454664, 4196481, 1065040}\n",
      "{8454664, 2101505, 1065040}\n",
      "{8454664, 263202, 1065040}\n",
      "{532552, 131105, 2114050}\n",
      "{532552, 4196481, 2114050}\n",
      "{532552, 327952, 4227588}\n",
      "{532552, 131105, 8392834, 327952}\n",
      "{532552, 131105, 4227588}\n",
      "{532552, 263202, 4227588}\n",
      "{131105, 2114050, 266308}\n",
      "{532552, 131105, 8392834, 4227588}\n",
      "{532552, 2101505, 263202, 4227588}\n",
      "{532552, 131600, 263202, 8405252}\n",
      "{532552, 327952, 2114050}\n",
      "{557200, 131105, 4202754, 266308}\n",
      "{557200, 8705, 266308}\n",
      "{557200, 2114050, 266308}\n",
      "{327952, 8705, 133186}\n",
      "{8454664, 1065040, 139396}\n",
      "{8240, 2114050, 266308}\n",
      "{8454664, 266308, 557200}\n",
      "{8705, 8392834, 526372}\n",
      "{164104, 8705, 8392834}\n",
      "{1052712, 8705, 133186}\n",
      "{8705, 133186, 8405252}\n",
      "{8389697, 2114050, 139396}\n",
      "{1052712, 2114050, 139396}\n",
      "{164104, 8389697, 2114050}\n",
      "{4196481, 2114050, 266308}\n",
      "{164104, 2114050, 266308}\n",
      "{131105, 8392834, 4227588}\n",
      "{532552, 2101505, 4227588}\n",
      "{2101505, 133186, 4227588}\n",
      "{532552, 8392834, 4227588}\n",
      "{278664, 133186, 4227588}\n",
      "{8454664, 131105, 4202754}\n",
      "{8454664, 2101505, 526372}\n",
      "{8454664, 2101505, 133186}\n",
      "{8454664, 2101505, 139396}\n",
      "{8454664, 263202, 139396}\n",
      "{8454664, 131105, 266308}\n",
      "{8454664, 4196481, 263202}\n",
      "{8454664, 4196481, 266308}\n",
      "{8454664, 2101505, 263202}\n",
      "{8454664, 4202754, 526372}\n",
      "{8454664, 4202754, 266308}\n",
      "{8240, 2101505, 133186}\n",
      "{278664, 133186, 8240}\n",
      "{8240, 4196481, 266308}\n",
      "{164104, 8240, 266308}\n",
      "{1065040, 8392834, 526372}\n",
      "{164104, 8392834, 1065040}\n",
      "{1065040, 2101505, 139396}\n",
      "{1065040, 263202, 139396}\n",
      "{164104, 263202, 1065040}\n",
      "{1052712, 4202754, 557200}\n",
      "{557200, 131105, 266308}\n",
      "{1052712, 133186, 557200}\n",
      "{557200, 4202754, 266308}\n",
      "{557200, 133186, 8405252}\n",
      "{327952, 131105, 8392834}\n",
      "{532552, 131105, 327952}\n",
      "{327952, 8389697, 526372}\n",
      "{1052712, 8389697, 327952}\n",
      "{532552, 4196481, 327952}\n",
      "{327952, 8392834, 526372}\n",
      "{327952, 8389697, 139396}\n",
      "{532552, 327952, 8392834}\n",
      "{1052712, 4196481, 327952}\n",
      "{1052712, 327952, 139396}\n",
      "{1052712, 327952, 133186}\n",
      "{131600, 8389697, 4202754}\n",
      "{131600, 8389697, 526372}\n",
      "{1052712, 8389697, 131600}\n",
      "{278664, 8389697, 131600}\n",
      "{131600, 4196481, 8405252}\n",
      "{532552, 4196481, 131600}\n",
      "{532552, 2101505, 131600}\n",
      "{131600, 8392834, 526372}\n",
      "{131600, 2101505, 526372}\n",
      "{532552, 131600, 8392834}\n",
      "{1052712, 4196481, 131600}\n",
      "{1052712, 131600, 4202754}\n",
      "{278664, 2101505, 131600}\n",
      "{131600, 4196481, 263202}\n",
      "{131600, 4196481, 266308}\n",
      "{131600, 2101505, 263202}\n",
      "{131600, 4202754, 526372}\n",
      "{131600, 4202754, 266308}\n",
      "{278664, 131600, 526372}\n",
      "{532552, 131600, 263202}\n",
      "{131600, 263202, 8405252}\n",
      "{278664, 131600, 4202754}\n",
      "{532552, 131600, 8405252}\n",
      "{1052712, 131600, 8405252}\n"
     ]
    }
   ],
   "source": [
    "for e in sol :\n",
    "    print(ensclique(e,refvec2))"
   ]
  },
  {
   "cell_type": "code",
   "execution_count": 90,
   "metadata": {},
   "outputs": [
    {
     "data": {
      "text/plain": [
       "196"
      ]
     },
     "execution_count": 90,
     "metadata": {},
     "output_type": "execute_result"
    }
   ],
   "source": [
    "len(sol)"
   ]
  },
  {
   "cell_type": "code",
   "execution_count": 91,
   "metadata": {},
   "outputs": [],
   "source": [
    "soll=[]\n",
    "for c1 in sol :\n",
    "    bbb=True\n",
    "    for c2 in TorNKey :\n",
    "        if c1&c2==c1:\n",
    "            bbb=False\n",
    "            \n",
    "    if bbb :\n",
    "        soll.append(c1)\n",
    "sol=soll"
   ]
  },
  {
   "cell_type": "code",
   "execution_count": 92,
   "metadata": {},
   "outputs": [
    {
     "data": {
      "text/plain": [
       "101"
      ]
     },
     "execution_count": 92,
     "metadata": {},
     "output_type": "execute_result"
    }
   ],
   "source": [
    "len(sol)"
   ]
  },
  {
   "cell_type": "code",
   "execution_count": 93,
   "metadata": {},
   "outputs": [],
   "source": [
    "import pickle\n",
    "\n",
    "# define a list of places\n",
    "pList = sol\n",
    "\n",
    "with open('TorNMinus2Key.data', 'wb') as filehandle:\n",
    "    # store the data as binary data stream\n",
    "    pickle.dump(pList, filehandle)"
   ]
  },
  {
   "cell_type": "code",
   "execution_count": 94,
   "metadata": {},
   "outputs": [],
   "source": [
    "import pickle\n",
    "\n",
    "# define a list of places\n",
    "pList = sol3\n",
    "\n",
    "with open('TorNMinus1Key.data', 'wb') as filehandle:\n",
    "    # store the data as binary data stream\n",
    "    pickle.dump(pList, filehandle)"
   ]
  },
  {
   "cell_type": "code",
   "execution_count": 95,
   "metadata": {},
   "outputs": [],
   "source": [
    "nlist=[n+1]"
   ]
  },
  {
   "cell_type": "code",
   "execution_count": 96,
   "metadata": {},
   "outputs": [],
   "source": [
    "import pickle\n",
    "\n",
    "# define a list of places\n",
    "ppList = nlist\n",
    "\n",
    "with open('n.data', 'wb') as filehandle:\n",
    "    # store the data as binary data stream\n",
    "    pickle.dump(ppList, filehandle)"
   ]
  },
  {
   "cell_type": "code",
   "execution_count": null,
   "metadata": {},
   "outputs": [],
   "source": []
  },
  {
   "cell_type": "code",
   "execution_count": null,
   "metadata": {},
   "outputs": [],
   "source": []
  },
  {
   "cell_type": "code",
   "execution_count": null,
   "metadata": {},
   "outputs": [],
   "source": []
  }
 ],
 "metadata": {
  "kernelspec": {
   "display_name": "Python 3",
   "language": "python",
   "name": "python3"
  },
  "language_info": {
   "codemirror_mode": {
    "name": "ipython",
    "version": 3
   },
   "file_extension": ".py",
   "mimetype": "text/x-python",
   "name": "python",
   "nbconvert_exporter": "python",
   "pygments_lexer": "ipython3",
   "version": "3.7.6"
  }
 },
 "nbformat": 4,
 "nbformat_minor": 4
}
